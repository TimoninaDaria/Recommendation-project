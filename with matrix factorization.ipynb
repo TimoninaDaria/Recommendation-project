{
 "cells": [
  {
   "cell_type": "code",
   "execution_count": 1,
   "metadata": {
    "ExecuteTime": {
     "end_time": "2019-12-07T16:14:12.820109Z",
     "start_time": "2019-12-07T16:14:06.502937Z"
    }
   },
   "outputs": [],
   "source": [
    "import vk                                                                       \n",
    "import time                                                                     \n",
    "import pickle                                                                   \n",
    "import numpy as np \n",
    "import collections\n",
    "import itertools\n",
    "from sklearn.metrics.pairwise import cosine_similarity\n",
    "\n",
    "from scipy.sparse import coo_matrix, csr_matrix, csc_matrix\n",
    "from collections import defaultdict                                             \n",
    "                                                                                \n",
    "def save_obj(obj, name ):                                                       \n",
    "    with open(name + '.pkl', 'wb') as f:                                        \n",
    "        pickle.dump(obj, f, pickle.HIGHEST_PROTOCOL)                            \n",
    "                                                                                \n",
    "def load_obj(name ):                                                            \n",
    "    with open(name + '.pkl', 'rb') as f:                                        \n",
    "        return pickle.load(f)"
   ]
  },
  {
   "cell_type": "code",
   "execution_count": 2,
   "metadata": {
    "ExecuteTime": {
     "end_time": "2019-12-07T16:14:26.596450Z",
     "start_time": "2019-12-07T16:14:26.024967Z"
    }
   },
   "outputs": [
    {
     "name": "stdout",
     "output_type": "stream",
     "text": [
      "2337\n",
      "4790\n"
     ]
    }
   ],
   "source": [
    "all_members = {}\n",
    "all_members.update(load_obj('./Anya_persons'))\n",
    "print(len(all_members))\n",
    "all_members.update(load_obj('./Dasha_persons'))\n",
    "print(len(all_members))\n",
    "all_members.update(load_obj('./Maks_persons'))"
   ]
  },
  {
   "cell_type": "code",
   "execution_count": 3,
   "metadata": {
    "ExecuteTime": {
     "end_time": "2019-12-07T16:14:42.340062Z",
     "start_time": "2019-12-07T16:14:42.184466Z"
    }
   },
   "outputs": [],
   "source": [
    "users_with_no_inf = []\n",
    "groups_l = set()\n",
    "for pers in all_members:\n",
    "    try:\n",
    "        groups_l.update(all_members[pers]['groups']) \n",
    "    except Exception: users_with_no_inf.append(pers)\n",
    "groups_l = list(groups_l)"
   ]
  },
  {
   "cell_type": "code",
   "execution_count": 4,
   "metadata": {
    "ExecuteTime": {
     "end_time": "2019-12-07T16:14:56.298373Z",
     "start_time": "2019-12-07T16:14:56.152435Z"
    }
   },
   "outputs": [],
   "source": [
    "groups = {idx:group for idx, group in enumerate(groups_l)}\n",
    "reverse_groups = {group:idx for idx, group in enumerate(groups_l)}"
   ]
  },
  {
   "cell_type": "code",
   "execution_count": 5,
   "metadata": {
    "ExecuteTime": {
     "end_time": "2019-12-07T16:15:15.849481Z",
     "start_time": "2019-12-07T16:15:15.801898Z"
    }
   },
   "outputs": [
    {
     "name": "stdout",
     "output_type": "stream",
     "text": [
      "324580\n",
      "189373191\n"
     ]
    }
   ],
   "source": [
    "print(max(groups.keys()))\n",
    "print(max(reverse_groups.keys()))"
   ]
  },
  {
   "cell_type": "code",
   "execution_count": 6,
   "metadata": {
    "ExecuteTime": {
     "end_time": "2019-12-07T16:15:23.502993Z",
     "start_time": "2019-12-07T16:15:23.496781Z"
    }
   },
   "outputs": [],
   "source": [
    "for pers in users_with_no_inf:\n",
    "    del all_members[pers]"
   ]
  },
  {
   "cell_type": "code",
   "execution_count": 7,
   "metadata": {
    "ExecuteTime": {
     "end_time": "2019-12-07T16:15:38.978120Z",
     "start_time": "2019-12-07T16:15:38.964560Z"
    }
   },
   "outputs": [],
   "source": [
    "users_l = list(all_members.keys())\n",
    "users = {idx:user for idx, user in enumerate(users_l)}\n",
    "reverse_users = {user:idx for idx, user in enumerate(users_l)}"
   ]
  },
  {
   "cell_type": "code",
   "execution_count": 8,
   "metadata": {
    "ExecuteTime": {
     "end_time": "2019-12-07T16:16:01.682820Z",
     "start_time": "2019-12-07T16:16:00.883972Z"
    }
   },
   "outputs": [],
   "source": [
    "data = []\n",
    "row = []\n",
    "col =[]\n",
    "for idx, (user, val) in enumerate(all_members.items()):\n",
    "    for group in val['groups'][0:int(0.33*len(val['groups']))]:\n",
    "        row.append(idx)\n",
    "        data.append(3)\n",
    "        col.append(reverse_groups[group])\n",
    "    for group in val['groups'][int(0.33*len(val['groups'])):int(0.66*len(val['groups']))]:\n",
    "        row.append(idx)\n",
    "        data.append(2)\n",
    "        col.append(reverse_groups[group])\n",
    "    for group in val['groups'][int(0.66*len(val['groups'])):]:\n",
    "        row.append(idx)\n",
    "        data.append(1)\n",
    "        col.append(reverse_groups[group])"
   ]
  },
  {
   "cell_type": "code",
   "execution_count": 9,
   "metadata": {
    "ExecuteTime": {
     "end_time": "2019-12-07T16:16:11.130637Z",
     "start_time": "2019-12-07T16:16:10.540862Z"
    }
   },
   "outputs": [],
   "source": [
    "csr = csr_matrix((np.array(data), (np.array(row),np.array(col))))"
   ]
  },
  {
   "cell_type": "code",
   "execution_count": 10,
   "metadata": {
    "ExecuteTime": {
     "end_time": "2019-12-07T16:16:25.390166Z",
     "start_time": "2019-12-07T16:16:25.364958Z"
    }
   },
   "outputs": [
    {
     "data": {
      "text/plain": [
       "(7133, 324581)"
      ]
     },
     "execution_count": 10,
     "metadata": {},
     "output_type": "execute_result"
    }
   ],
   "source": [
    "csr.shape"
   ]
  },
  {
   "cell_type": "code",
   "execution_count": 11,
   "metadata": {
    "ExecuteTime": {
     "end_time": "2019-12-07T16:16:34.085786Z",
     "start_time": "2019-12-07T16:16:34.010183Z"
    }
   },
   "outputs": [],
   "source": [
    "def recs(idx, csr_a):\n",
    "    # считаем косинус между всеми пользователями\n",
    "    metrics = cosine_similarity(csr_a.getrow(idx).toarray().reshape(1,-1), csr_a).reshape(-1, 1)\n",
    "    # домножаем оценки пользовтеля на коэффициент похожести\n",
    "\n",
    "    csr_a = csr_a.multiply( metrics)\n",
    "    total_rate = np.sum(csr_a, axis=0)\n",
    "    return total_rate"
   ]
  },
  {
   "cell_type": "code",
   "execution_count": 21,
   "metadata": {
    "ExecuteTime": {
     "end_time": "2019-12-07T17:05:29.314342Z",
     "start_time": "2019-12-07T17:05:29.094760Z"
    }
   },
   "outputs": [],
   "source": [
    "from scipy import spatial\n",
    "from lightfm import LightFM\n",
    "from sklearn.metrics import pairwise_distances\n",
    "from scipy.sparse import coo_matrix, csr_matrix, load_npz\n",
    "from sklearn.metrics.pairwise import cosine_similarity\n",
    "model = LightFM(loss='warp', no_components=100, learning_rate=0.03, learning_schedule=\"adadelta\")"
   ]
  },
  {
   "cell_type": "code",
   "execution_count": 22,
   "metadata": {
    "ExecuteTime": {
     "end_time": "2019-12-07T17:06:20.837191Z",
     "start_time": "2019-12-07T17:06:09.483555Z"
    }
   },
   "outputs": [
    {
     "name": "stdout",
     "output_type": "stream",
     "text": [
      "Epoch 0\n",
      "Epoch 1\n",
      "Epoch 2\n",
      "Epoch 3\n",
      "Epoch 4\n"
     ]
    },
    {
     "data": {
      "text/plain": [
       "<lightfm.lightfm.LightFM at 0x7f412c4f8978>"
      ]
     },
     "execution_count": 22,
     "metadata": {},
     "output_type": "execute_result"
    }
   ],
   "source": [
    "model.fit(coo_matrix(csr), epochs=5, num_threads=40, verbose=True)"
   ]
  },
  {
   "cell_type": "code",
   "execution_count": 23,
   "metadata": {
    "ExecuteTime": {
     "end_time": "2019-12-07T17:07:29.793561Z",
     "start_time": "2019-12-07T17:07:29.787092Z"
    }
   },
   "outputs": [],
   "source": [
    "user_feature_bias, user_feature_embeddings = model.get_user_representations()\n",
    "item_feature_bias, item_feature_embeddings = model.get_item_representations()"
   ]
  },
  {
   "cell_type": "code",
   "execution_count": 12,
   "metadata": {
    "ExecuteTime": {
     "end_time": "2019-12-07T16:16:45.103645Z",
     "start_time": "2019-12-07T16:16:45.096727Z"
    }
   },
   "outputs": [
    {
     "data": {
      "text/plain": [
       "1822"
      ]
     },
     "execution_count": 12,
     "metadata": {},
     "output_type": "execute_result"
    }
   ],
   "source": [
    "dasha = reverse_users[9183085]\n",
    "dasha"
   ]
  },
  {
   "cell_type": "code",
   "execution_count": 46,
   "metadata": {
    "ExecuteTime": {
     "end_time": "2019-12-07T17:31:37.226047Z",
     "start_time": "2019-12-07T17:31:37.216364Z"
    }
   },
   "outputs": [
    {
     "data": {
      "text/plain": [
       "301154"
      ]
     },
     "execution_count": 46,
     "metadata": {},
     "output_type": "execute_result"
    }
   ],
   "source": [
    "reverse_groups[all_members[9183085]['groups'][0]]"
   ]
  },
  {
   "cell_type": "code",
   "execution_count": 49,
   "metadata": {
    "ExecuteTime": {
     "end_time": "2019-12-07T17:46:59.924444Z",
     "start_time": "2019-12-07T17:46:59.754251Z"
    }
   },
   "outputs": [
    {
     "name": "stdout",
     "output_type": "stream",
     "text": [
      "random index = 1\n",
      "1441\n",
      "54295855\n",
      "40836944\n",
      "29534144\n",
      "30698831\n",
      "38664418\n",
      "25967968\n",
      "22558194\n",
      "37359718\n",
      "31976785\n"
     ]
    }
   ],
   "source": [
    "import random\n",
    "rand=random.randint(0,3)\n",
    "print('random index =',rand)\n",
    "idx = reverse_groups[all_members[9183085]['groups'][rand]] \n",
    "metrics = (1 - pairwise_distances(item_feature_embeddings[idx].reshape(1, -1),\n",
    "                                  item_feature_embeddings, \n",
    "                                  metric='cosine'))\n",
    "\n",
    "for i in np.argsort(metrics)[0][::-1][:10]:\n",
    "    print (groups[i])"
   ]
  },
  {
   "cell_type": "code",
   "execution_count": 13,
   "metadata": {
    "ExecuteTime": {
     "end_time": "2019-12-07T16:16:56.388894Z",
     "start_time": "2019-12-07T16:16:56.235586Z"
    }
   },
   "outputs": [],
   "source": [
    "t = recs(dasha, csr)"
   ]
  },
  {
   "cell_type": "code",
   "execution_count": 14,
   "metadata": {
    "ExecuteTime": {
     "end_time": "2019-12-07T16:17:30.323775Z",
     "start_time": "2019-12-07T16:17:29.946963Z"
    }
   },
   "outputs": [
    {
     "name": "stdout",
     "output_type": "stream",
     "text": [
      "[1441, 54295855, 29534144, 29559271, 49866476, 31976785, 65652356, 63731512, 37119411, 41437811]\n"
     ]
    }
   ],
   "source": [
    "a = t.tolist()\n",
    "a = a[0]\n",
    "a = [(j,i) for i , j in enumerate(a) ]\n",
    "a.sort(key=lambda i: i[0], reverse=True)\n",
    "i = a[:10]\n",
    "print([groups[idx] for score, idx in i])"
   ]
  },
  {
   "cell_type": "code",
   "execution_count": 15,
   "metadata": {
    "ExecuteTime": {
     "end_time": "2019-12-07T16:17:43.980441Z",
     "start_time": "2019-12-07T16:17:43.971660Z"
    }
   },
   "outputs": [],
   "source": [
    "def precision_for_one(csr, user_l):\n",
    "    user = reverse_users[user_l]\n",
    "    t = recs(user, csr)\n",
    "    a = t.tolist()\n",
    "    a = a[0]\n",
    "    a = [(j,i) for i , j in enumerate(a)]\n",
    "    a.sort(key=lambda i: i[0], reverse=True)\n",
    "    i = a[:20]\n",
    "    recomend = set([groups[idx] for score, idx in i])\n",
    "    groups_of_user = set(all_members[user_l]['groups'])\n",
    "    TP = len(recomend&groups_of_user)\n",
    "    return TP/20."
   ]
  },
  {
   "cell_type": "code",
   "execution_count": 16,
   "metadata": {
    "ExecuteTime": {
     "end_time": "2019-12-07T16:17:55.313875Z",
     "start_time": "2019-12-07T16:17:55.300755Z"
    }
   },
   "outputs": [],
   "source": [
    "def recall_for_one(csr, user_l):\n",
    "    user = reverse_users[user_l]\n",
    "    t = recs(user, csr)\n",
    "    a = t.tolist()\n",
    "    a = a[0]\n",
    "    a = [(j,i) for i , j in enumerate(a)]\n",
    "    a.sort(key=lambda i: i[0], reverse=True)\n",
    "    i = a[:20]\n",
    "    recomend = set([groups[idx] for score, idx in i])\n",
    "    groups_of_user = set(all_members[user_l]['groups'])\n",
    "    TP = len(recomend&groups_of_user)\n",
    "    return TP/len(groups_of_user)"
   ]
  },
  {
   "cell_type": "code",
   "execution_count": 17,
   "metadata": {
    "ExecuteTime": {
     "end_time": "2019-12-07T16:18:07.463221Z",
     "start_time": "2019-12-07T16:18:07.446442Z"
    }
   },
   "outputs": [],
   "source": [
    "import random\n",
    "users_for_test = random.sample(users_l, int(0.33*len(users_l)))"
   ]
  },
  {
   "cell_type": "code",
   "execution_count": 18,
   "metadata": {
    "ExecuteTime": {
     "end_time": "2019-12-07T16:45:18.629587Z",
     "start_time": "2019-12-07T16:18:16.542330Z"
    }
   },
   "outputs": [],
   "source": [
    "list_of_prec = []\n",
    "list_of_recall = []\n",
    "for i in users_for_test:\n",
    "    list_of_prec.append(precision_for_one(csr, i))\n",
    "    list_of_recall.append(recall_for_one(csr, i))"
   ]
  },
  {
   "cell_type": "code",
   "execution_count": 19,
   "metadata": {
    "ExecuteTime": {
     "end_time": "2019-12-07T16:45:18.641194Z",
     "start_time": "2019-12-07T16:45:18.631404Z"
    }
   },
   "outputs": [
    {
     "data": {
      "text/plain": [
       "0.32093072673183126"
      ]
     },
     "execution_count": 19,
     "metadata": {},
     "output_type": "execute_result"
    }
   ],
   "source": [
    "sum(list_of_prec)/len(list_of_prec)"
   ]
  },
  {
   "cell_type": "code",
   "execution_count": null,
   "metadata": {},
   "outputs": [],
   "source": [
    "sum(list_of_recall)/len(list_of_recall)"
   ]
  }
 ],
 "metadata": {
  "kernelspec": {
   "display_name": "Python 3",
   "language": "python",
   "name": "python3"
  },
  "language_info": {
   "codemirror_mode": {
    "name": "ipython",
    "version": 3
   },
   "file_extension": ".py",
   "mimetype": "text/x-python",
   "name": "python",
   "nbconvert_exporter": "python",
   "pygments_lexer": "ipython3",
   "version": "3.6.6"
  },
  "toc": {
   "base_numbering": 1,
   "nav_menu": {},
   "number_sections": true,
   "sideBar": true,
   "skip_h1_title": false,
   "title_cell": "Table of Contents",
   "title_sidebar": "Contents",
   "toc_cell": false,
   "toc_position": {},
   "toc_section_display": true,
   "toc_window_display": false
  }
 },
 "nbformat": 4,
 "nbformat_minor": 2
}
