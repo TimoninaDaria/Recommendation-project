{
 "cells": [
  {
   "cell_type": "code",
   "execution_count": 62,
   "metadata": {
    "ExecuteTime": {
     "end_time": "2019-12-17T13:46:57.495436Z",
     "start_time": "2019-12-17T13:46:57.482489Z"
    }
   },
   "outputs": [],
   "source": [
    "import vk                                                                       \n",
    "import time                                                                     \n",
    "import pickle                                                                   \n",
    "import numpy as np \n",
    "import collections\n",
    "import itertools\n",
    "import webbrowser\n",
    "from time import sleep\n",
    "from sklearn.metrics.pairwise import cosine_similarity\n",
    "\n",
    "from scipy.sparse import coo_matrix, csr_matrix, csc_matrix\n",
    "from collections import defaultdict                                             \n",
    "                                                                                \n",
    "def save_obj(obj, name ):                                                       \n",
    "    with open(name + '.pkl', 'wb') as f:                                        \n",
    "        pickle.dump(obj, f, pickle.HIGHEST_PROTOCOL)                            \n",
    "                                                                                \n",
    "def load_obj(name ):                                                            \n",
    "    with open(name + '.pkl', 'rb') as f:                                        \n",
    "        return pickle.load(f)"
   ]
  },
  {
   "cell_type": "code",
   "execution_count": 63,
   "metadata": {
    "ExecuteTime": {
     "end_time": "2019-12-17T13:47:00.800771Z",
     "start_time": "2019-12-17T13:46:57.702190Z"
    }
   },
   "outputs": [],
   "source": [
    "all_members = {}\n",
    "all_members.update(load_obj('./Anya_persons_old'))\n",
    "all_members.update(load_obj('./Dasha_persons'))\n",
    "all_members.update(load_obj('./Maks_persond_processed'))"
   ]
  },
  {
   "cell_type": "code",
   "execution_count": null,
   "metadata": {
    "ExecuteTime": {
     "end_time": "2019-12-14T20:54:19.005436Z",
     "start_time": "2019-12-14T20:54:18.996918Z"
    }
   },
   "outputs": [],
   "source": []
  },
  {
   "cell_type": "code",
   "execution_count": 64,
   "metadata": {
    "ExecuteTime": {
     "end_time": "2019-12-17T13:47:02.434519Z",
     "start_time": "2019-12-17T13:47:00.803080Z"
    }
   },
   "outputs": [],
   "source": [
    "groups_l = set()\n",
    "for pers in all_members:\n",
    "    groups_l.update(all_members[pers]['groups']) \n",
    "groups_l = list(groups_l)"
   ]
  },
  {
   "cell_type": "code",
   "execution_count": 65,
   "metadata": {
    "ExecuteTime": {
     "end_time": "2019-12-17T13:47:03.303012Z",
     "start_time": "2019-12-17T13:47:02.438030Z"
    }
   },
   "outputs": [],
   "source": [
    "groups = {idx:group for idx, group in enumerate(groups_l)}\n",
    "reverse_groups = {group:idx for idx, group in enumerate(groups_l)}"
   ]
  },
  {
   "cell_type": "code",
   "execution_count": 66,
   "metadata": {
    "ExecuteTime": {
     "end_time": "2019-12-17T13:47:03.462537Z",
     "start_time": "2019-12-17T13:47:03.305987Z"
    }
   },
   "outputs": [
    {
     "name": "stdout",
     "output_type": "stream",
     "text": [
      "1141951\n",
      "189802470\n"
     ]
    }
   ],
   "source": [
    "print(max(groups.keys()))\n",
    "print(max(reverse_groups.keys()))"
   ]
  },
  {
   "cell_type": "code",
   "execution_count": 67,
   "metadata": {
    "ExecuteTime": {
     "end_time": "2019-12-17T13:47:03.998468Z",
     "start_time": "2019-12-17T13:47:03.465076Z"
    }
   },
   "outputs": [],
   "source": [
    "users_l = list(all_members.keys())\n",
    "users = {idx:user for idx, user in enumerate(users_l)}\n",
    "reverse_users = {user:idx for idx, user in enumerate(users_l)}"
   ]
  },
  {
   "cell_type": "code",
   "execution_count": 68,
   "metadata": {
    "ExecuteTime": {
     "end_time": "2019-12-17T13:47:04.150450Z",
     "start_time": "2019-12-17T13:47:04.000649Z"
    }
   },
   "outputs": [],
   "source": [
    "\n",
    "my_friends_for_test=[995864,6173127,6811139,8431101,9420850,10804323,11030995,14245770,17468315,22840792,25567189,25883865,29145732,49363671,62369794,66382695,78330794,171038940,178159310,182861903,292309514,38628143]\n",
    "users_for_test =[995864,6173127,6811139,8431101,9420850,10804323,11030995,14245770,17468315,22840792,25567189,25883865,29145732,49363671,62369794,66382695,78330794,171038940,178159310,182861903,292309514,38628143,59401294,33436943,12653364,300102978,284227818,120889121,120522331,310242262,82046724,120942983,243561432,267294790,5179470,9558686,17260358,32670543,89754899,484844105,187961856,139106107,182453074,11311268,19370392,67495362]"
   ]
  },
  {
   "cell_type": "code",
   "execution_count": 69,
   "metadata": {
    "ExecuteTime": {
     "end_time": "2019-12-17T13:47:04.232377Z",
     "start_time": "2019-12-17T13:47:04.156391Z"
    }
   },
   "outputs": [],
   "source": [
    "def recs(idx, csr_a):\n",
    "    # считаем косинус между всеми пользователями\n",
    "    metrics = cosine_similarity(csr_a.getrow(idx).toarray().reshape(1,-1), csr_a).reshape(-1, 1)\n",
    "    metrics[idx] = 0\n",
    "    # домножаем оценки пользовтеля на коэффициент похожести\n",
    "\n",
    "    csr_a = csr_a.multiply(metrics)\n",
    "    total_rate = np.sum(csr_a, axis=0)\n",
    "    return total_rate"
   ]
  },
  {
   "cell_type": "code",
   "execution_count": 70,
   "metadata": {
    "ExecuteTime": {
     "end_time": "2019-12-17T13:47:04.298952Z",
     "start_time": "2019-12-17T13:47:04.236381Z"
    }
   },
   "outputs": [],
   "source": [
    "def get_sort(csr_a, user_l):\n",
    "    user = reverse_users[user_l]\n",
    "    t = recs(user, csr) \n",
    "    a = t.tolist()\n",
    "    a = a[0]\n",
    "    a = [(j,i) for i , j in enumerate(a)]\n",
    "    a.sort(key=lambda i: i[0], reverse=True)\n",
    "    return a"
   ]
  },
  {
   "cell_type": "code",
   "execution_count": 71,
   "metadata": {
    "ExecuteTime": {
     "end_time": "2019-12-17T13:47:04.396096Z",
     "start_time": "2019-12-17T13:47:04.301364Z"
    }
   },
   "outputs": [],
   "source": [
    "def precision_for_one(csr, user_l):\n",
    "    recomend = set([groups[idx] for score, idx in get_sort(csr, user_l)[:6]])\n",
    "    groups_of_user = set(all_members[user_l]['groups'])\n",
    "    TP = len(recomend&groups_of_user)\n",
    "    return TP/6."
   ]
  },
  {
   "cell_type": "code",
   "execution_count": 72,
   "metadata": {
    "ExecuteTime": {
     "end_time": "2019-12-17T13:47:04.887317Z",
     "start_time": "2019-12-17T13:47:04.402750Z"
    }
   },
   "outputs": [],
   "source": [
    "def open_links(is_groups, user_groups):\n",
    "    user, groups = user_groups\n",
    "    groups = groups['groups']\n",
    "    webbrowser.open('https://vk.com/id'+str(user))\n",
    "    for group in groups:\n",
    "        sleep(0.8)\n",
    "        webbrowser.open('https://vk.com/public' + str(group))"
   ]
  },
  {
   "cell_type": "code",
   "execution_count": 73,
   "metadata": {
    "ExecuteTime": {
     "end_time": "2019-12-17T13:47:05.383231Z",
     "start_time": "2019-12-17T13:47:04.894952Z"
    }
   },
   "outputs": [],
   "source": [
    "best_groups = False"
   ]
  },
  {
   "cell_type": "code",
   "execution_count": 74,
   "metadata": {
    "ExecuteTime": {
     "end_time": "2019-12-17T13:47:16.161267Z",
     "start_time": "2019-12-17T13:47:05.390289Z"
    }
   },
   "outputs": [],
   "source": [
    "data = []\n",
    "row = []\n",
    "col =[]\n",
    "#boundaries\n",
    "first = 0.03\n",
    "second = 0.1\n",
    "if best_groups:\n",
    "    for idx, (user, val) in enumerate(all_members.items()):\n",
    "        for group in val['groups'][0:int(first*len(val['groups']))]:\n",
    "            row.append(idx)\n",
    "            data.append(100)\n",
    "            col.append(reverse_groups[group])\n",
    "        for group in val['groups'][int(first*len(val['groups'])):int(second*len(val['groups']))]:\n",
    "            row.append(idx)\n",
    "            data.append(10)\n",
    "            col.append(reverse_groups[group])\n",
    "        for group in val['groups'][int(second*len(val['groups'])):]:\n",
    "            row.append(idx)\n",
    "            data.append(1)\n",
    "            col.append(reverse_groups[group])\n",
    "else:\n",
    "    for idx, (user, val) in enumerate(all_members.items()):\n",
    "        for group in val['groups']:\n",
    "            row.append(idx)\n",
    "            data.append(1)\n",
    "            col.append(reverse_groups[group])\n",
    "    \n",
    "csr = csr_matrix((np.array(data), (np.array(row),np.array(col))))"
   ]
  },
  {
   "cell_type": "code",
   "execution_count": 88,
   "metadata": {
    "ExecuteTime": {
     "end_time": "2019-12-17T13:48:47.336746Z",
     "start_time": "2019-12-17T13:48:47.327634Z"
    }
   },
   "outputs": [],
   "source": [
    "users_for_test = [57583179]\n",
    "drop_current = True"
   ]
  },
  {
   "cell_type": "code",
   "execution_count": 89,
   "metadata": {
    "ExecuteTime": {
     "end_time": "2019-12-17T13:48:51.765054Z",
     "start_time": "2019-12-17T13:48:47.829746Z"
    }
   },
   "outputs": [],
   "source": [
    "out = {}\n",
    "for user_id in users_for_test:\n",
    "    try:\n",
    "        gr = get_sort(csr, user_id)\n",
    "        out[user_id] = {}\n",
    "        out[user_id]['groups'] = []\n",
    "        out[user_id]['method'] = 1\n",
    "        for g in gr:\n",
    "            if drop_current:\n",
    "                if groups[g[1]] not in all_members[user_id]['groups']:\n",
    "                    out[user_id]['groups'].append(groups[g[1]])\n",
    "            else:\n",
    "                out[user_id]['groups'].append(groups[g[1]])\n",
    "            if len(out[user_id]['groups']) == 6:\n",
    "                break\n",
    "    except :\n",
    "        continue\n"
   ]
  },
  {
   "cell_type": "code",
   "execution_count": 90,
   "metadata": {
    "ExecuteTime": {
     "end_time": "2019-12-17T13:48:57.862995Z",
     "start_time": "2019-12-17T13:48:51.771924Z"
    }
   },
   "outputs": [],
   "source": [
    "open_links(True, list(out.items())[0])"
   ]
  },
  {
   "cell_type": "code",
   "execution_count": null,
   "metadata": {
    "ExecuteTime": {
     "end_time": "2019-12-17T13:47:37.835654Z",
     "start_time": "2019-12-17T13:47:37.718Z"
    }
   },
   "outputs": [],
   "source": [
    "list(out.items())"
   ]
  },
  {
   "cell_type": "code",
   "execution_count": null,
   "metadata": {},
   "outputs": [],
   "source": []
  }
 ],
 "metadata": {
  "kernelspec": {
   "display_name": "Python 3",
   "language": "python",
   "name": "python3"
  },
  "language_info": {
   "codemirror_mode": {
    "name": "ipython",
    "version": 3
   },
   "file_extension": ".py",
   "mimetype": "text/x-python",
   "name": "python",
   "nbconvert_exporter": "python",
   "pygments_lexer": "ipython3",
   "version": "3.6.9"
  },
  "toc": {
   "base_numbering": 1,
   "nav_menu": {},
   "number_sections": true,
   "sideBar": true,
   "skip_h1_title": false,
   "title_cell": "Table of Contents",
   "title_sidebar": "Contents",
   "toc_cell": false,
   "toc_position": {},
   "toc_section_display": true,
   "toc_window_display": false
  }
 },
 "nbformat": 4,
 "nbformat_minor": 2
}
