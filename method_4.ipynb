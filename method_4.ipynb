{
 "cells": [
  {
   "cell_type": "markdown",
   "metadata": {},
   "source": [
    "# Content-based (на основе описания групп)"
   ]
  },
  {
   "cell_type": "code",
   "execution_count": 1,
   "metadata": {
    "ExecuteTime": {
     "end_time": "2019-12-07T16:14:12.820109Z",
     "start_time": "2019-12-07T16:14:06.502937Z"
    }
   },
   "outputs": [],
   "source": [
    "import vk                                                                       \n",
    "import time                                                                     \n",
    "import pickle                                                                   \n",
    "import numpy as np \n",
    "import collections\n",
    "import itertools\n",
    "from sklearn.metrics.pairwise import cosine_similarity\n",
    "\n",
    "from scipy.sparse import coo_matrix, csr_matrix, csc_matrix\n",
    "from collections import defaultdict                                             \n",
    "                                                                                \n",
    "def save_obj(obj, name ):                                                       \n",
    "    with open(name + '.pkl', 'wb') as f:                                        \n",
    "        pickle.dump(obj, f, pickle.HIGHEST_PROTOCOL)                            \n",
    "                                                                                \n",
    "def load_obj(name ):                                                            \n",
    "    with open(name + '.pkl', 'rb') as f:                                        \n",
    "        return pickle.load(f)"
   ]
  },
  {
   "cell_type": "code",
   "execution_count": null,
   "metadata": {
    "ExecuteTime": {
     "end_time": "2019-12-07T16:14:26.596450Z",
     "start_time": "2019-12-07T16:14:26.024967Z"
    }
   },
   "outputs": [],
   "source": [
    "all_members = {}\n",
    "all_members.update(load_obj('./Anya_persons'))\n",
    "all_members.update(load_obj('./Dasha_persons'))\n",
    "all_members.update(load_obj('./Maks_persons'))\n",
    "print(len(all_members))"
   ]
  },
  {
   "cell_type": "code",
   "execution_count": 3,
   "metadata": {
    "ExecuteTime": {
     "end_time": "2019-12-07T16:14:42.340062Z",
     "start_time": "2019-12-07T16:14:42.184466Z"
    }
   },
   "outputs": [],
   "source": [
    "users_with_no_inf = []\n",
    "groups_l = set()\n",
    "for pers in all_members:\n",
    "    try:\n",
    "        groups_l.update(all_members[pers]['groups']) \n",
    "    except Exception: users_with_no_inf.append(pers)\n",
    "groups_l = list(groups_l)"
   ]
  },
  {
   "cell_type": "code",
   "execution_count": 4,
   "metadata": {},
   "outputs": [],
   "source": [
    "for pers in users_with_no_inf:\n",
    "    del all_members[pers]"
   ]
  },
  {
   "cell_type": "code",
   "execution_count": 7,
   "metadata": {},
   "outputs": [
    {
     "name": "stdout",
     "output_type": "stream",
     "text": [
      "1141947\n"
     ]
    }
   ],
   "source": [
    "print(len(groups_l))"
   ]
  },
  {
   "cell_type": "code",
   "execution_count": 7,
   "metadata": {
    "ExecuteTime": {
     "end_time": "2019-12-07T16:14:56.298373Z",
     "start_time": "2019-12-07T16:14:56.152435Z"
    }
   },
   "outputs": [],
   "source": [
    "groups = {idx:group for idx, group in enumerate(groups_l)}\n",
    "reverse_groups = {group:idx for idx, group in enumerate(groups_l)}"
   ]
  },
  {
   "cell_type": "code",
   "execution_count": 8,
   "metadata": {
    "ExecuteTime": {
     "end_time": "2019-12-07T16:15:15.849481Z",
     "start_time": "2019-12-07T16:15:15.801898Z"
    }
   },
   "outputs": [
    {
     "name": "stdout",
     "output_type": "stream",
     "text": [
      "1141946\n",
      "189802470\n"
     ]
    }
   ],
   "source": [
    "print(max(groups.keys()))\n",
    "print(max(reverse_groups.keys()))"
   ]
  },
  {
   "cell_type": "code",
   "execution_count": 9,
   "metadata": {
    "ExecuteTime": {
     "end_time": "2019-12-07T16:15:38.978120Z",
     "start_time": "2019-12-07T16:15:38.964560Z"
    }
   },
   "outputs": [],
   "source": [
    "users_l = list(all_members.keys())\n",
    "users = {idx:user for idx, user in enumerate(users_l)}\n",
    "reverse_users = {user:idx for idx, user in enumerate(users_l)}"
   ]
  },
  {
   "cell_type": "code",
   "execution_count": 10,
   "metadata": {},
   "outputs": [
    {
     "name": "stdout",
     "output_type": "stream",
     "text": [
      "46181\n",
      "1141947\n"
     ]
    }
   ],
   "source": [
    "print(len(all_members))\n",
    "print(len(groups))"
   ]
  },
  {
   "cell_type": "code",
   "execution_count": null,
   "metadata": {},
   "outputs": [],
   "source": [
    "import vk\n",
    "import time\n",
    "members_set = set()\n",
    "token = 'f3c81a9e09ad036126c26fbd2663e9868d431160b695c5cf676ad595258dd9a3a64c36fd85a0f2912acb5'\n",
    "session = vk.Session(access_token = token)\n",
    "api = vk.API(session) \n",
    "descr_of_groups = []\n",
    "all_inf_about_groups = []\n",
    "for i in range(2283):\n",
    "    time.sleep(1)\n",
    "    all_inf_about_groups.extend(api.groups.getById(group_ids = groups_l[i*500:i*500+500], fields = 'description', v = 5.103))"
   ]
  },
  {
   "cell_type": "code",
   "execution_count": 18,
   "metadata": {},
   "outputs": [],
   "source": [
    "all_inf_about_groups.extend(api.groups.getById(group_ids = groups_l[1141500:-1], fields = 'description', v = 5.103))"
   ]
  },
  {
   "cell_type": "code",
   "execution_count": 30,
   "metadata": {},
   "outputs": [],
   "source": [
    "dict_tmp = dict()\n",
    "list_title = []\n",
    "tmp = 0\n",
    "for j in all_inf_about_groups:\n",
    "    try:\n",
    "        if j['description'] == '': dict_tmp[j['id']] = j['name']\n",
    "        else : dict_tmp[j['id']] = j['description']\n",
    "    except Exception: dict_tmp[j['id']] = j['name']"
   ]
  },
  {
   "cell_type": "code",
   "execution_count": 37,
   "metadata": {},
   "outputs": [],
   "source": [
    "dict_tmp[188743678] = api.groups.getById(group_ids = 188743678, fields = 'description', v = 5.103)[0]['description']"
   ]
  },
  {
   "cell_type": "code",
   "execution_count": 39,
   "metadata": {},
   "outputs": [
    {
     "name": "stdout",
     "output_type": "stream",
     "text": [
      "1141947\n"
     ]
    }
   ],
   "source": [
    "print(len(dict_tmp ))"
   ]
  },
  {
   "cell_type": "code",
   "execution_count": 41,
   "metadata": {},
   "outputs": [],
   "source": [
    "list_title = []\n",
    "for i, val in enumerate(groups_l):\n",
    "    list_title.append(dict_tmp[val])"
   ]
  },
  {
   "cell_type": "code",
   "execution_count": 49,
   "metadata": {},
   "outputs": [],
   "source": [
    "import gensim\n",
    "import re\n",
    "list_title = [gensim.utils.simple_preprocess(re.sub(\"[^a-zA-Z]+\", \" \", i.lower())) \n",
    "                           for i in list_title]"
   ]
  },
  {
   "cell_type": "code",
   "execution_count": 50,
   "metadata": {},
   "outputs": [],
   "source": [
    "# build vocabulary and train model\n",
    "model = gensim.models.Word2Vec(\n",
    "        list_title,\n",
    "        size=200,\n",
    "        window=10,\n",
    "        min_count=1,\n",
    "        workers=10,\n",
    "        iter=100)"
   ]
  },
  {
   "cell_type": "code",
   "execution_count": 51,
   "metadata": {},
   "outputs": [],
   "source": [
    "def avg_feature_vector(words, model, num_features, index2word_set):\n",
    "    feature_vec = np.zeros((num_features, ), dtype='float32')\n",
    "    n_words = 0\n",
    "    for word in words:\n",
    "        if word in index2word_set:\n",
    "            n_words += 1\n",
    "            feature_vec = np.add(feature_vec, model.wv[word])\n",
    "    if (n_words > 0):\n",
    "        feature_vec = np.divide(feature_vec, n_words)\n",
    "    return feature_vec"
   ]
  },
  {
   "cell_type": "code",
   "execution_count": 52,
   "metadata": {},
   "outputs": [],
   "source": [
    "index2word_set = set(model.wv.index2word)"
   ]
  },
  {
   "cell_type": "code",
   "execution_count": 53,
   "metadata": {},
   "outputs": [],
   "source": [
    "item_feature_embeddings = np.zeros((len(list_title), 200))\n",
    "for i in range(item_feature_embeddings.shape[0]):\n",
    "    item_feature_embeddings[i] = avg_feature_vector(list_title[i], model, 200, index2word_set)"
   ]
  },
  {
   "cell_type": "code",
   "execution_count": 54,
   "metadata": {
    "ExecuteTime": {
     "end_time": "2019-12-07T16:17:43.980441Z",
     "start_time": "2019-12-07T16:17:43.971660Z"
    }
   },
   "outputs": [],
   "source": [
    "def precision_for_one(recomend, user_l):\n",
    "    recomend = set(recomend)\n",
    "    groups_of_user = set(all_members[user_l]['groups'])\n",
    "    TP = len(recomend&groups_of_user)\n",
    "    return TP/6."
   ]
  },
  {
   "cell_type": "code",
   "execution_count": 72,
   "metadata": {
    "ExecuteTime": {
     "end_time": "2019-12-07T16:18:07.463221Z",
     "start_time": "2019-12-07T16:18:07.446442Z"
    }
   },
   "outputs": [],
   "source": [
    "import random\n",
    "users_for_test = random.sample(users_l, 100)"
   ]
  },
  {
   "cell_type": "code",
   "execution_count": 102,
   "metadata": {},
   "outputs": [],
   "source": [
    "#косинусное расстояние между эмбедингами описания групп\n",
    "def content_based_recomendation(user_l, item_feature_embeddings):\n",
    "    groups_for_recommend = []\n",
    "    groups_of_user = all_members[user_l]['groups']\n",
    "    groups_of_user_revers = []\n",
    "    for i in groups_of_user[0:6]:\n",
    "         groups_of_user_revers.append(reverse_groups[i])\n",
    "    for i in groups_of_user_revers:\n",
    "        metrics = list(cosine_similarity(item_feature_embeddings[i].reshape(1, -1),  item_feature_embeddings)[0])   \n",
    "        sorted_keys = sorted(range(len(metrics)), key=metrics.__getitem__, reverse = True)\n",
    "        for j, val in enumerate(sorted_keys):\n",
    "            if val != i and (groups[val] not in groups_for_recommend)  and groups[val]!=2 and (groups[val] not in groups_of_user):  \n",
    "                best_group = val\n",
    "                break\n",
    "        #if i != sorted_keys[0]: best_group = sorted_keys[0]\n",
    "        #else: best_group = sorted_keys[1]\n",
    "        groups_for_recommend.append(groups[best_group])\n",
    "        #groups_for_recommend.append(best_group)\n",
    "    return groups_for_recommend\n"
   ]
  },
  {
   "cell_type": "code",
   "execution_count": null,
   "metadata": {},
   "outputs": [],
   "source": [
    "list_of_prec = []\n",
    "for user_l in users_for_test:\n",
    "    recomend = content_based_recomendation(user_l, item_feature_embeddings)    \n",
    "    list_of_prec.append(precision_for_one(recomend, user_l))"
   ]
  },
  {
   "cell_type": "code",
   "execution_count": 101,
   "metadata": {},
   "outputs": [
    {
     "data": {
      "text/plain": [
       "0.003333333333333333"
      ]
     },
     "execution_count": 101,
     "metadata": {},
     "output_type": "execute_result"
    }
   ],
   "source": [
    "sum(list_of_prec)/len(list_of_prec)"
   ]
  },
  {
   "cell_type": "code",
   "execution_count": 104,
   "metadata": {},
   "outputs": [
    {
     "data": {
      "text/plain": [
       "[18874368, 81671907, 44610648, 1, 3, 97915820]"
      ]
     },
     "execution_count": 104,
     "metadata": {},
     "output_type": "execute_result"
    }
   ],
   "source": [
    "# тест для себя\n",
    "content_based_recomendation(9183085, item_feature_embeddings)   "
   ]
  },
  {
   "cell_type": "code",
   "execution_count": 84,
   "metadata": {},
   "outputs": [],
   "source": [
    "friends_for_test = []"
   ]
  },
  {
   "cell_type": "code",
   "execution_count": 85,
   "metadata": {},
   "outputs": [],
   "source": [
    "with open('All_friends.txt' , 'r') as f:\n",
    "    for line in f:\n",
    "        friends_for_test.append(int(line))     "
   ]
  },
  {
   "cell_type": "code",
   "execution_count": 89,
   "metadata": {},
   "outputs": [
    {
     "data": {
      "text/plain": [
       "46"
      ]
     },
     "execution_count": 89,
     "metadata": {},
     "output_type": "execute_result"
    }
   ],
   "source": [
    "len( friends_for_test)"
   ]
  },
  {
   "cell_type": "code",
   "execution_count": 92,
   "metadata": {},
   "outputs": [],
   "source": [
    "dict_friends_test = dict()\n",
    "for pers in friends_for_test:\n",
    "    if pers in users_l:\n",
    "        dict_friends_test[pers] = dict()\n",
    "        dict_friends_test[pers]['groups'] = content_based_recomendation(pers, item_feature_embeddings)   \n",
    "        dict_friends_test[pers]['method'] = 4"
   ]
  },
  {
   "cell_type": "code",
   "execution_count": 94,
   "metadata": {},
   "outputs": [],
   "source": [
    "with open('Dasha_recs_4.pkl', 'wb') as f:\n",
    "    pickle.dump(dict_friends_test, f)"
   ]
  }
 ],
 "metadata": {
  "kernelspec": {
   "display_name": "Python 3",
   "language": "python",
   "name": "python3"
  },
  "language_info": {
   "codemirror_mode": {
    "name": "ipython",
    "version": 3
   },
   "file_extension": ".py",
   "mimetype": "text/x-python",
   "name": "python",
   "nbconvert_exporter": "python",
   "pygments_lexer": "ipython3",
   "version": "3.6.9"
  },
  "toc": {
   "base_numbering": 1,
   "nav_menu": {},
   "number_sections": true,
   "sideBar": true,
   "skip_h1_title": false,
   "title_cell": "Table of Contents",
   "title_sidebar": "Contents",
   "toc_cell": false,
   "toc_position": {},
   "toc_section_display": true,
   "toc_window_display": false
  }
 },
 "nbformat": 4,
 "nbformat_minor": 4
}
