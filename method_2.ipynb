{
 "cells": [
  {
   "cell_type": "code",
   "execution_count": 47,
   "metadata": {
    "ExecuteTime": {
     "end_time": "2019-12-17T10:29:49.431635Z",
     "start_time": "2019-12-17T10:29:49.415736Z"
    }
   },
   "outputs": [],
   "source": [
    "import vk                                                                       \n",
    "import time                                                                     \n",
    "import pickle                                                                   \n",
    "import numpy as np \n",
    "import collections\n",
    "import itertools\n",
    "from sklearn.metrics.pairwise import cosine_similarity\n",
    "\n",
    "from scipy.sparse import coo_matrix, csr_matrix, csc_matrix\n",
    "from collections import defaultdict                                             \n",
    "                                                                                \n",
    "def save_obj(obj, name ):                                                       \n",
    "    with open(name + '.pkl', 'wb') as f:                                        \n",
    "        pickle.dump(obj, f, pickle.HIGHEST_PROTOCOL)                            \n",
    "                                                                                \n",
    "def load_obj(name ):                                                            \n",
    "    with open(name + '.pkl', 'rb') as f:                                        \n",
    "        return pickle.load(f)"
   ]
  },
  {
   "cell_type": "code",
   "execution_count": 48,
   "metadata": {
    "ExecuteTime": {
     "end_time": "2019-12-17T10:29:53.129649Z",
     "start_time": "2019-12-17T10:29:49.927277Z"
    }
   },
   "outputs": [
    {
     "name": "stdout",
     "output_type": "stream",
     "text": [
      "15209\n",
      "31037\n"
     ]
    }
   ],
   "source": [
    "all_members = {}\n",
    "all_members.update(load_obj('./Anya_persons'))\n",
    "print(len(all_members))\n",
    "all_members.update(load_obj('./Dasha_persons'))\n",
    "print(len(all_members))\n",
    "all_members.update(load_obj('./Maks_persons'))"
   ]
  },
  {
   "cell_type": "code",
   "execution_count": 49,
   "metadata": {
    "ExecuteTime": {
     "end_time": "2019-12-17T10:29:53.135909Z",
     "start_time": "2019-12-17T10:29:53.132209Z"
    }
   },
   "outputs": [
    {
     "data": {
      "text/plain": [
       "46169"
      ]
     },
     "execution_count": 49,
     "metadata": {},
     "output_type": "execute_result"
    }
   ],
   "source": [
    "len(all_members)"
   ]
  },
  {
   "cell_type": "code",
   "execution_count": 50,
   "metadata": {
    "ExecuteTime": {
     "end_time": "2019-12-17T10:29:56.120700Z",
     "start_time": "2019-12-17T10:29:55.020916Z"
    }
   },
   "outputs": [],
   "source": [
    "users_with_no_inf = []\n",
    "groups_l = set()\n",
    "for pers in all_members:\n",
    "    try:\n",
    "        groups_l.update(all_members[pers]['groups']) \n",
    "    except Exception: users_with_no_inf.append(pers)\n",
    "groups_l = list(groups_l)"
   ]
  },
  {
   "cell_type": "code",
   "execution_count": 51,
   "metadata": {
    "ExecuteTime": {
     "end_time": "2019-12-17T10:29:56.846152Z",
     "start_time": "2019-12-17T10:29:56.122422Z"
    }
   },
   "outputs": [],
   "source": [
    "groups = {idx:group for idx, group in enumerate(groups_l)}\n",
    "reverse_groups = {group:idx for idx, group in enumerate(groups_l)}"
   ]
  },
  {
   "cell_type": "code",
   "execution_count": 52,
   "metadata": {
    "ExecuteTime": {
     "end_time": "2019-12-17T10:29:56.979315Z",
     "start_time": "2019-12-17T10:29:56.848286Z"
    }
   },
   "outputs": [
    {
     "name": "stdout",
     "output_type": "stream",
     "text": [
      "1141946\n",
      "189802470\n"
     ]
    }
   ],
   "source": [
    "print(max(groups.keys()))\n",
    "print(max(reverse_groups.keys()))"
   ]
  },
  {
   "cell_type": "code",
   "execution_count": 53,
   "metadata": {
    "ExecuteTime": {
     "end_time": "2019-12-17T10:29:58.299258Z",
     "start_time": "2019-12-17T10:29:58.288081Z"
    }
   },
   "outputs": [],
   "source": [
    "for pers in users_with_no_inf:\n",
    "    del all_members[pers]"
   ]
  },
  {
   "cell_type": "code",
   "execution_count": 54,
   "metadata": {
    "ExecuteTime": {
     "end_time": "2019-12-17T10:29:59.062921Z",
     "start_time": "2019-12-17T10:29:59.021670Z"
    }
   },
   "outputs": [],
   "source": [
    "users_l = list(all_members.keys())\n",
    "users = {idx:user for idx, user in enumerate(users_l)}\n",
    "reverse_users = {user:idx for idx, user in enumerate(users_l)}"
   ]
  },
  {
   "cell_type": "code",
   "execution_count": 55,
   "metadata": {
    "ExecuteTime": {
     "end_time": "2019-12-17T10:30:05.998347Z",
     "start_time": "2019-12-17T10:29:59.442290Z"
    }
   },
   "outputs": [],
   "source": [
    "data = []\n",
    "row = []\n",
    "col =[]\n",
    "for idx, (user, val) in enumerate(all_members.items()):\n",
    "    for group in val['groups'][0:int(0.33*len(val['groups']))]:\n",
    "        row.append(idx)\n",
    "        data.append(3)\n",
    "        col.append(reverse_groups[group])\n",
    "    for group in val['groups'][int(0.33*len(val['groups'])):int(0.66*len(val['groups']))]:\n",
    "        row.append(idx)\n",
    "        data.append(2)\n",
    "        col.append(reverse_groups[group])\n",
    "    for group in val['groups'][int(0.66*len(val['groups'])):]:\n",
    "        row.append(idx)\n",
    "        data.append(1)\n",
    "        col.append(reverse_groups[group])"
   ]
  },
  {
   "cell_type": "code",
   "execution_count": 56,
   "metadata": {
    "ExecuteTime": {
     "end_time": "2019-12-17T10:30:11.289924Z",
     "start_time": "2019-12-17T10:30:06.001070Z"
    }
   },
   "outputs": [],
   "source": [
    "csr = csr_matrix((np.array(data), (np.array(row),np.array(col))))"
   ]
  },
  {
   "cell_type": "code",
   "execution_count": 57,
   "metadata": {
    "ExecuteTime": {
     "end_time": "2019-12-17T10:30:11.295736Z",
     "start_time": "2019-12-17T10:30:11.291929Z"
    }
   },
   "outputs": [
    {
     "data": {
      "text/plain": [
       "(46169, 1141947)"
      ]
     },
     "execution_count": 57,
     "metadata": {},
     "output_type": "execute_result"
    }
   ],
   "source": [
    "csr.shape"
   ]
  },
  {
   "cell_type": "markdown",
   "metadata": {
    "ExecuteTime": {
     "end_time": "2019-12-14T18:00:23.341011Z",
     "start_time": "2019-12-14T18:00:23.336038Z"
    }
   },
   "source": [
    "### Пересчет metrics"
   ]
  },
  {
   "cell_type": "code",
   "execution_count": 58,
   "metadata": {
    "ExecuteTime": {
     "end_time": "2019-12-17T10:30:11.391487Z",
     "start_time": "2019-12-17T10:30:11.297960Z"
    }
   },
   "outputs": [],
   "source": [
    "from scipy import spatial\n",
    "from lightfm import LightFM\n",
    "from sklearn.metrics import pairwise_distances\n",
    "from scipy.sparse import coo_matrix, csr_matrix, load_npz\n",
    "from sklearn.metrics.pairwise import cosine_similarity\n",
    "model = LightFM(loss='warp', no_components=100, learning_rate=0.03, learning_schedule=\"adadelta\")"
   ]
  },
  {
   "cell_type": "code",
   "execution_count": 59,
   "metadata": {
    "ExecuteTime": {
     "end_time": "2019-12-17T10:31:59.768082Z",
     "start_time": "2019-12-17T10:30:11.395283Z"
    }
   },
   "outputs": [
    {
     "name": "stdout",
     "output_type": "stream",
     "text": [
      "Epoch 0\n",
      "Epoch 1\n",
      "Epoch 2\n",
      "Epoch 3\n",
      "Epoch 4\n"
     ]
    },
    {
     "data": {
      "text/plain": [
       "<lightfm.lightfm.LightFM at 0x7f2e09341828>"
      ]
     },
     "execution_count": 59,
     "metadata": {},
     "output_type": "execute_result"
    }
   ],
   "source": [
    "model.fit(coo_matrix(csr), epochs=5, num_threads=40, verbose=True)"
   ]
  },
  {
   "cell_type": "code",
   "execution_count": 60,
   "metadata": {
    "ExecuteTime": {
     "end_time": "2019-12-17T10:31:59.937276Z",
     "start_time": "2019-12-17T10:31:59.850507Z"
    }
   },
   "outputs": [],
   "source": [
    "user_feature_bias, user_feature_embeddings = model.get_user_representations()\n",
    "item_feature_bias, item_feature_embeddings = model.get_item_representations()"
   ]
  },
  {
   "cell_type": "code",
   "execution_count": 61,
   "metadata": {
    "ExecuteTime": {
     "end_time": "2019-12-17T10:32:05.171311Z",
     "start_time": "2019-12-17T10:31:59.941220Z"
    }
   },
   "outputs": [],
   "source": [
    "n_ages=[]\n",
    "for i in all_members:\n",
    "    try: n_ages.append(all_members[i]['age'])\n",
    "    except Exception: continue"
   ]
  },
  {
   "cell_type": "code",
   "execution_count": 62,
   "metadata": {
    "ExecuteTime": {
     "end_time": "2019-12-17T10:32:16.434482Z",
     "start_time": "2019-12-17T10:32:16.314047Z"
    }
   },
   "outputs": [],
   "source": [
    "mean_age=np.array(n_ages).mean()"
   ]
  },
  {
   "cell_type": "code",
   "execution_count": 63,
   "metadata": {
    "ExecuteTime": {
     "end_time": "2019-12-17T10:32:17.411161Z",
     "start_time": "2019-12-17T10:32:16.437834Z"
    }
   },
   "outputs": [],
   "source": [
    "sexs=[]\n",
    "universitys=[]\n",
    "facultys=[]\n",
    "ages=[]\n",
    "citys=[]\n",
    "for i in all_members:\n",
    "    try: sexs.append(all_members[i]['sex'])\n",
    "    except Exception:sexs.append(0)\n",
    "    try: universitys.append(all_members[i]['university'])\n",
    "    except Exception:universitys.append(0)\n",
    "    try: facultys.append(all_members[i]['faculty'])\n",
    "    except Exception:facultys.append(0)\n",
    "    try: ages.append(all_members[i]['age'])\n",
    "    except Exception: ages.append(mean_age)\n",
    "    try: citys.append(all_members[i]['city'])\n",
    "    except Exception:citys.append(0)"
   ]
  },
  {
   "cell_type": "code",
   "execution_count": 64,
   "metadata": {
    "ExecuteTime": {
     "end_time": "2019-12-17T10:32:17.438721Z",
     "start_time": "2019-12-17T10:32:17.413550Z"
    }
   },
   "outputs": [],
   "source": [
    "reverse_citys_d = {city:idx for idx, city in enumerate(set(citys))}\n",
    "reverse_citys=[reverse_citys_d[citys[i]] for i in range(len(citys))]"
   ]
  },
  {
   "cell_type": "code",
   "execution_count": 65,
   "metadata": {
    "ExecuteTime": {
     "end_time": "2019-12-17T10:32:17.517409Z",
     "start_time": "2019-12-17T10:32:17.440912Z"
    }
   },
   "outputs": [],
   "source": [
    "reverse_facultys_d = {faculty:idx for idx, faculty in enumerate(set(facultys))}\n",
    "reverse_facultys=[reverse_facultys_d[facultys[i]] for i in range(len(facultys))]"
   ]
  },
  {
   "cell_type": "code",
   "execution_count": 66,
   "metadata": {
    "ExecuteTime": {
     "end_time": "2019-12-17T10:32:17.571925Z",
     "start_time": "2019-12-17T10:32:17.519152Z"
    }
   },
   "outputs": [],
   "source": [
    "reverse_universitys_d = {university:idx for idx, university in enumerate(set(universitys))}\n",
    "reverse_universitys=[reverse_universitys_d[universitys[i]] for i in range(len(universitys))]"
   ]
  },
  {
   "cell_type": "code",
   "execution_count": 67,
   "metadata": {
    "ExecuteTime": {
     "end_time": "2019-12-17T10:32:45.453423Z",
     "start_time": "2019-12-17T10:32:17.573644Z"
    }
   },
   "outputs": [],
   "source": [
    "import keras\n",
    "w1=user_feature_embeddings\n",
    "for i in [sexs,keras.utils.to_categorical(reverse_universitys),keras.utils.to_categorical(reverse_facultys),ages,keras.utils.to_categorical(reverse_citys)]:\n",
    "    w1=np.hstack((w1,np.vstack(i)))"
   ]
  },
  {
   "cell_type": "code",
   "execution_count": 68,
   "metadata": {
    "ExecuteTime": {
     "end_time": "2019-12-17T10:32:46.839538Z",
     "start_time": "2019-12-17T10:32:46.052980Z"
    }
   },
   "outputs": [
    {
     "data": {
      "text/plain": [
       "(46169, 4439)"
      ]
     },
     "execution_count": 68,
     "metadata": {},
     "output_type": "execute_result"
    }
   ],
   "source": [
    "w1.shape"
   ]
  },
  {
   "cell_type": "code",
   "execution_count": 69,
   "metadata": {
    "ExecuteTime": {
     "end_time": "2019-12-17T10:32:48.016621Z",
     "start_time": "2019-12-17T10:32:46.894755Z"
    }
   },
   "outputs": [],
   "source": [
    "def recs(idx,csr_a, w):\n",
    "    # считаем косинус между всеми пользователями\n",
    "    metrics = cosine_similarity(w[idx].reshape(1, -1), csr_matrix(w)).reshape(-1, 1)\n",
    "    # домножаем оценки пользовтеля на коэффициент похожести\n",
    "    #print('metrics', metrics)\n",
    "    #csr_a *= metrics\n",
    "    csr_a=csr_a.multiply(metrics)\n",
    "    total_rate = np.sum(csr_a, axis=0)\n",
    "    #total_rate=metrics.transpose()*csr_a\n",
    "    return total_rate"
   ]
  },
  {
   "cell_type": "markdown",
   "metadata": {},
   "source": [
    "### Рекомендации"
   ]
  },
  {
   "cell_type": "code",
   "execution_count": 50,
   "metadata": {
    "ExecuteTime": {
     "end_time": "2019-12-15T15:38:07.187886Z",
     "start_time": "2019-12-15T15:38:07.179874Z"
    }
   },
   "outputs": [
    {
     "data": {
      "text/plain": [
       "2794"
      ]
     },
     "execution_count": 50,
     "metadata": {},
     "output_type": "execute_result"
    }
   ],
   "source": [
    "reverse_users[9183085]"
   ]
  },
  {
   "cell_type": "code",
   "execution_count": 72,
   "metadata": {
    "ExecuteTime": {
     "end_time": "2019-12-15T15:48:19.210088Z",
     "start_time": "2019-12-15T15:48:19.205758Z"
    }
   },
   "outputs": [
    {
     "data": {
      "text/plain": [
       "3220"
      ]
     },
     "execution_count": 72,
     "metadata": {},
     "output_type": "execute_result"
    }
   ],
   "source": [
    "reverse_users[30811126]"
   ]
  },
  {
   "cell_type": "code",
   "execution_count": 119,
   "metadata": {
    "ExecuteTime": {
     "end_time": "2019-12-15T16:16:13.444967Z",
     "start_time": "2019-12-15T16:16:07.125550Z"
    }
   },
   "outputs": [
    {
     "name": "stdout",
     "output_type": "stream",
     "text": [
      "0 28986.683516381458 29534144\n",
      "1 28775.60471950622 65652356\n",
      "2 24237.459059911645 37119411\n",
      "3 22440.62622488729 29559271\n",
      "4 22386.726690660947 30022666\n",
      "5 21162.749300422096 49866476\n"
     ]
    }
   ],
   "source": [
    "user=3220\n",
    "t=recs(user, csr, w1)\n",
    "a=t.tolist()\n",
    "a = [(j,i) for i , j in enumerate(a[0]) ]\n",
    "a=sorted(a, key=lambda i: i[0], reverse=True)\n",
    "k=0\n",
    "for score, idx in a:\n",
    "    if k<6:\n",
    "        if groups[idx] not in all_members[users[user]]['groups']:\n",
    "            print (groups[idx])\n",
    "            k=k+1\n",
    "    else:\n",
    "        break"
   ]
  },
  {
   "cell_type": "code",
   "execution_count": 120,
   "metadata": {
    "ExecuteTime": {
     "end_time": "2019-12-15T16:16:19.988872Z",
     "start_time": "2019-12-15T16:16:19.962891Z"
    }
   },
   "outputs": [],
   "source": [
    "def precision_for_one(csr, user_l,w):\n",
    "    user = reverse_users[user_l]\n",
    "    t = recs(user, csr, w)\n",
    "    a = t.tolist()\n",
    "    a = a[0]\n",
    "    a = [(j,i) for i , j in enumerate(a)]\n",
    "    a.sort(key=lambda i: i[0], reverse=True)\n",
    "    i = a[:6]\n",
    "    recomend = set([groups[idx] for score, idx in i])\n",
    "    groups_of_user = set(all_members[user_l]['groups'])\n",
    "    TP = len(recomend&groups_of_user)\n",
    "    return TP/6."
   ]
  },
  {
   "cell_type": "code",
   "execution_count": 124,
   "metadata": {
    "ExecuteTime": {
     "end_time": "2019-12-15T16:22:49.755098Z",
     "start_time": "2019-12-15T16:22:49.740102Z"
    }
   },
   "outputs": [],
   "source": [
    "import random\n",
    "users_for_test = random.sample(users_l, 100)"
   ]
  },
  {
   "cell_type": "code",
   "execution_count": 125,
   "metadata": {
    "ExecuteTime": {
     "end_time": "2019-12-15T16:29:08.396034Z",
     "start_time": "2019-12-15T16:22:50.646580Z"
    },
    "scrolled": true
   },
   "outputs": [
    {
     "name": "stdout",
     "output_type": "stream",
     "text": [
      "0 1 2 3 4 5 6 7 8 9 10 11 12 13 14 15 16 17 18 19 20 21 22 23 24 25 26 27 28 29 30 31 32 33 34 35 36 37 38 39 40 41 42 43 44 45 46 47 48 49 50 51 52 53 54 55 56 57 58 59 60 61 62 63 64 65 66 67 68 69 70 71 72 73 74 75 76 77 78 79 80 81 82 83 84 85 86 87 88 89 90 91 92 93 94 95 96 97 98 99 "
     ]
    }
   ],
   "source": [
    "list_of_prec1 = []\n",
    "k=0\n",
    "for i in users_for_test:\n",
    "    print (k, end=' ')\n",
    "    list_of_prec1.append(precision_for_one(csr, i,w1))\n",
    "    k=k+1"
   ]
  },
  {
   "cell_type": "code",
   "execution_count": 126,
   "metadata": {
    "ExecuteTime": {
     "end_time": "2019-12-15T16:29:16.920664Z",
     "start_time": "2019-12-15T16:29:16.911028Z"
    }
   },
   "outputs": [
    {
     "name": "stdout",
     "output_type": "stream",
     "text": [
      "0.40333333333333327\n"
     ]
    }
   ],
   "source": [
    "print(sum(list_of_prec1)/len(list_of_prec1))"
   ]
  },
  {
   "cell_type": "code",
   "execution_count": 70,
   "metadata": {
    "ExecuteTime": {
     "end_time": "2019-12-17T10:32:48.438732Z",
     "start_time": "2019-12-17T10:32:48.021311Z"
    }
   },
   "outputs": [
    {
     "name": "stdout",
     "output_type": "stream",
     "text": [
      "['5179470', '9558686', '17260358', '32670543', '89754899', '484844105', '187961856', '139106107', '182453074', '11311268', '19370392', '67495362']\n",
      "['59401294', '33436943', '12653364', '300102978', '284227818', '120889121', '310242262', '120942983', '243561432', '267294790']\n",
      "['995864', '6173127', '6811139', '8431101', '9420850', '10804323', '11030995', '14245770', '17468315', '22840792', '25567189', '25883865', '29145732', '49363671', '62369794', '66382695', '78330794', '171038940', '178159310', '182861903', '292309514', '38628143']\n"
     ]
    }
   ],
   "source": [
    "with open('Dasha_friends.txt', 'r') as f:\n",
    "    nums = f.read().splitlines()\n",
    "print(nums)\n",
    "with open('Anya_friends.txt', 'r') as f:\n",
    "    nums1 = f.read().splitlines()\n",
    "print(nums1)\n",
    "with open('Maks_friends.txt', 'r') as f:\n",
    "    nums2 = f.read().splitlines()\n",
    "print(nums2)"
   ]
  },
  {
   "cell_type": "code",
   "execution_count": 71,
   "metadata": {
    "ExecuteTime": {
     "end_time": "2019-12-17T10:32:48.486796Z",
     "start_time": "2019-12-17T10:32:48.440742Z"
    }
   },
   "outputs": [],
   "source": [
    "nums3=[30811126, 9183085]"
   ]
  },
  {
   "cell_type": "code",
   "execution_count": 72,
   "metadata": {
    "ExecuteTime": {
     "end_time": "2019-12-17T10:32:48.568941Z",
     "start_time": "2019-12-17T10:32:48.488119Z"
    }
   },
   "outputs": [],
   "source": [
    "fr=[int(item) for item in nums1+nums2+nums+nums3]"
   ]
  },
  {
   "cell_type": "code",
   "execution_count": 73,
   "metadata": {
    "ExecuteTime": {
     "end_time": "2019-12-17T10:32:49.628723Z",
     "start_time": "2019-12-17T10:32:48.573875Z"
    }
   },
   "outputs": [],
   "source": [
    "rev_fr=[reverse_users[item] for item in list(set(fr)&set(all_members.keys()))]"
   ]
  },
  {
   "cell_type": "code",
   "execution_count": 74,
   "metadata": {
    "ExecuteTime": {
     "end_time": "2019-12-17T10:35:11.572375Z",
     "start_time": "2019-12-17T10:32:49.630301Z"
    }
   },
   "outputs": [
    {
     "name": "stdout",
     "output_type": "stream",
     "text": [
      "0 1 2 3 4 5 6 7 8 9 10 11 12 13 14 15 16 17 18 19 20 21 22 23 24 25 26 27 28 29 30 31 32 33 34 35 36 "
     ]
    }
   ],
   "source": [
    "all_recs=dict()\n",
    "i=0\n",
    "for user in rev_fr:\n",
    "    print(i, end=' ')\n",
    "    i=i+1\n",
    "    dic=dict()\n",
    "    t=recs(user, csr, w1)\n",
    "    a=t.tolist()\n",
    "    a = [(j,i) for i , j in enumerate(a[0]) ]\n",
    "    a=sorted(a, key=lambda i: i[0], reverse=True)\n",
    "    k=0\n",
    "    rec_gr=[]\n",
    "    for score, idx in a:\n",
    "        if k<6:\n",
    "            if groups[idx] not in all_members[users[user]]['groups']:\n",
    "                #print (k, score, groups[idx])\n",
    "                rec_gr.append(groups[idx])\n",
    "                k=k+1\n",
    "        else:\n",
    "            break\n",
    "        dic['groups']=rec_gr\n",
    "        dic['method']=2\n",
    "    all_recs[users[user]]=dic\n",
    "    "
   ]
  },
  {
   "cell_type": "code",
   "execution_count": 75,
   "metadata": {
    "ExecuteTime": {
     "end_time": "2019-12-17T10:35:11.583757Z",
     "start_time": "2019-12-17T10:35:11.574005Z"
    }
   },
   "outputs": [
    {
     "data": {
      "text/plain": [
       "{187961856: {'groups': [29534144,\n",
       "   65652356,\n",
       "   37119411,\n",
       "   29559271,\n",
       "   24098496,\n",
       "   38664418],\n",
       "  'method': 2},\n",
       " 120942983: {'groups': [29534144,\n",
       "   65652356,\n",
       "   37119411,\n",
       "   59592700,\n",
       "   29559271,\n",
       "   30022666],\n",
       "  'method': 2},\n",
       " 14245770: {'groups': [29534144,\n",
       "   59592700,\n",
       "   30022666,\n",
       "   38664418,\n",
       "   78019879,\n",
       "   34215577],\n",
       "  'method': 2},\n",
       " 292309514: {'groups': [29534144,\n",
       "   37119411,\n",
       "   29559271,\n",
       "   30022666,\n",
       "   49866476,\n",
       "   24098496],\n",
       "  'method': 2},\n",
       " 33436943: {'groups': [37119411,\n",
       "   49866476,\n",
       "   34215577,\n",
       "   38683579,\n",
       "   31976785,\n",
       "   57846937],\n",
       "  'method': 2},\n",
       " 19370392: {'groups': [29534144,\n",
       "   37119411,\n",
       "   59592700,\n",
       "   29559271,\n",
       "   30022666,\n",
       "   49866476],\n",
       "  'method': 2},\n",
       " 995864: {'groups': [29534144,\n",
       "   65652356,\n",
       "   37119411,\n",
       "   59592700,\n",
       "   29559271,\n",
       "   30022666],\n",
       "  'method': 2},\n",
       " 9558686: {'groups': [29534144,\n",
       "   65652356,\n",
       "   37119411,\n",
       "   29559271,\n",
       "   30022666,\n",
       "   49866476],\n",
       "  'method': 2},\n",
       " 120889121: {'groups': [37119411,\n",
       "   59592700,\n",
       "   29559271,\n",
       "   30022666,\n",
       "   24098496,\n",
       "   38664418],\n",
       "  'method': 2},\n",
       " 11311268: {'groups': [29534144,\n",
       "   65652356,\n",
       "   59592700,\n",
       "   29559271,\n",
       "   30022666,\n",
       "   49866476],\n",
       "  'method': 2},\n",
       " 38628143: {'groups': [29534144,\n",
       "   29559271,\n",
       "   30022666,\n",
       "   24098496,\n",
       "   78019879,\n",
       "   34215577],\n",
       "  'method': 2},\n",
       " 9420850: {'groups': [29534144,\n",
       "   65652356,\n",
       "   59592700,\n",
       "   29559271,\n",
       "   30022666,\n",
       "   24098496],\n",
       "  'method': 2},\n",
       " 12653364: {'groups': [29534144,\n",
       "   65652356,\n",
       "   37119411,\n",
       "   29559271,\n",
       "   30022666,\n",
       "   24098496],\n",
       "  'method': 2},\n",
       " 300102978: {'groups': [37119411,\n",
       "   59592700,\n",
       "   29559271,\n",
       "   30022666,\n",
       "   24098496,\n",
       "   41437811],\n",
       "  'method': 2},\n",
       " 67495362: {'groups': [24098496,\n",
       "   38664418,\n",
       "   78019879,\n",
       "   34215577,\n",
       "   31976785,\n",
       "   57846937],\n",
       "  'method': 2},\n",
       " 267294790: {'groups': [29534144,\n",
       "   65652356,\n",
       "   37119411,\n",
       "   29559271,\n",
       "   30022666,\n",
       "   49866476],\n",
       "  'method': 2},\n",
       " 6173127: {'groups': [65652356,\n",
       "   37119411,\n",
       "   59592700,\n",
       "   29559271,\n",
       "   30022666,\n",
       "   24098496],\n",
       "  'method': 2},\n",
       " 484844105: {'groups': [29534144,\n",
       "   65652356,\n",
       "   37119411,\n",
       "   59592700,\n",
       "   29559271,\n",
       "   30022666],\n",
       "  'method': 2},\n",
       " 59401294: {'groups': [29534144,\n",
       "   37119411,\n",
       "   29559271,\n",
       "   30022666,\n",
       "   49866476,\n",
       "   24098496],\n",
       "  'method': 2},\n",
       " 178159310: {'groups': [29534144,\n",
       "   37119411,\n",
       "   59592700,\n",
       "   29559271,\n",
       "   30022666,\n",
       "   49866476],\n",
       "  'method': 2},\n",
       " 182861903: {'groups': [29534144,\n",
       "   65652356,\n",
       "   37119411,\n",
       "   59592700,\n",
       "   29559271,\n",
       "   30022666],\n",
       "  'method': 2},\n",
       " 5179470: {'groups': [65652356,\n",
       "   37119411,\n",
       "   59592700,\n",
       "   29559271,\n",
       "   30022666,\n",
       "   49866476],\n",
       "  'method': 2},\n",
       " 32670543: {'groups': [29534144,\n",
       "   29559271,\n",
       "   30022666,\n",
       "   34215577,\n",
       "   31480508,\n",
       "   31976785],\n",
       "  'method': 2},\n",
       " 11030995: {'groups': [65652356,\n",
       "   37119411,\n",
       "   29559271,\n",
       "   30022666,\n",
       "   24098496,\n",
       "   34215577],\n",
       "  'method': 2},\n",
       " 182453074: {'groups': [29534144,\n",
       "   65652356,\n",
       "   37119411,\n",
       "   29559271,\n",
       "   30022666,\n",
       "   24098496],\n",
       "  'method': 2},\n",
       " 25567189: {'groups': [65652356,\n",
       "   29559271,\n",
       "   49866476,\n",
       "   24098496,\n",
       "   38664418,\n",
       "   78019879],\n",
       "  'method': 2},\n",
       " 310242262: {'groups': [29534144,\n",
       "   37119411,\n",
       "   59592700,\n",
       "   29559271,\n",
       "   30022666,\n",
       "   49866476],\n",
       "  'method': 2},\n",
       " 22840792: {'groups': [37119411,\n",
       "   30022666,\n",
       "   41437811,\n",
       "   38683579,\n",
       "   31480508,\n",
       "   57846937],\n",
       "  'method': 2},\n",
       " 243561432: {'groups': [29534144,\n",
       "   65652356,\n",
       "   37119411,\n",
       "   59592700,\n",
       "   29559271,\n",
       "   30022666],\n",
       "  'method': 2},\n",
       " 25883865: {'groups': [29534144,\n",
       "   59592700,\n",
       "   30022666,\n",
       "   24098496,\n",
       "   38664418,\n",
       "   78019879],\n",
       "  'method': 2},\n",
       " 171038940: {'groups': [29534144,\n",
       "   65652356,\n",
       "   37119411,\n",
       "   59592700,\n",
       "   29559271,\n",
       "   30022666],\n",
       "  'method': 2},\n",
       " 10804323: {'groups': [29534144,\n",
       "   65652356,\n",
       "   37119411,\n",
       "   29559271,\n",
       "   30022666,\n",
       "   49866476],\n",
       "  'method': 2},\n",
       " 66382695: {'groups': [29534144,\n",
       "   65652356,\n",
       "   59592700,\n",
       "   29559271,\n",
       "   30022666,\n",
       "   49866476],\n",
       "  'method': 2},\n",
       " 284227818: {'groups': [37119411,\n",
       "   59592700,\n",
       "   24098496,\n",
       "   34215577,\n",
       "   31480508,\n",
       "   57846937],\n",
       "  'method': 2},\n",
       " 9183085: {'groups': [29534144,\n",
       "   65652356,\n",
       "   37119411,\n",
       "   59592700,\n",
       "   29559271,\n",
       "   30022666],\n",
       "  'method': 2},\n",
       " 30811126: {'groups': [29534144,\n",
       "   65652356,\n",
       "   37119411,\n",
       "   29559271,\n",
       "   30022666,\n",
       "   49866476],\n",
       "  'method': 2},\n",
       " 8431101: {'groups': [29534144,\n",
       "   65652356,\n",
       "   37119411,\n",
       "   29559271,\n",
       "   30022666,\n",
       "   49866476],\n",
       "  'method': 2}}"
      ]
     },
     "execution_count": 75,
     "metadata": {},
     "output_type": "execute_result"
    }
   ],
   "source": [
    "all_recs"
   ]
  },
  {
   "cell_type": "code",
   "execution_count": 76,
   "metadata": {
    "ExecuteTime": {
     "end_time": "2019-12-17T10:35:11.636696Z",
     "start_time": "2019-12-17T10:35:11.586444Z"
    }
   },
   "outputs": [],
   "source": [
    "with open('Anya_recs.pkl', 'wb') as f:\n",
    "    pickle.dump(all_recs, f)"
   ]
  },
  {
   "cell_type": "code",
   "execution_count": 77,
   "metadata": {
    "ExecuteTime": {
     "end_time": "2019-12-17T10:35:11.790308Z",
     "start_time": "2019-12-17T10:35:11.644132Z"
    }
   },
   "outputs": [],
   "source": [
    "recs=load_obj('./Anya_recs')"
   ]
  },
  {
   "cell_type": "code",
   "execution_count": 78,
   "metadata": {
    "ExecuteTime": {
     "end_time": "2019-12-17T10:35:11.891425Z",
     "start_time": "2019-12-17T10:35:11.792006Z"
    }
   },
   "outputs": [
    {
     "data": {
      "text/plain": [
       "{187961856: {'groups': [29534144,\n",
       "   65652356,\n",
       "   37119411,\n",
       "   29559271,\n",
       "   24098496,\n",
       "   38664418],\n",
       "  'method': 2},\n",
       " 120942983: {'groups': [29534144,\n",
       "   65652356,\n",
       "   37119411,\n",
       "   59592700,\n",
       "   29559271,\n",
       "   30022666],\n",
       "  'method': 2},\n",
       " 14245770: {'groups': [29534144,\n",
       "   59592700,\n",
       "   30022666,\n",
       "   38664418,\n",
       "   78019879,\n",
       "   34215577],\n",
       "  'method': 2},\n",
       " 292309514: {'groups': [29534144,\n",
       "   37119411,\n",
       "   29559271,\n",
       "   30022666,\n",
       "   49866476,\n",
       "   24098496],\n",
       "  'method': 2},\n",
       " 33436943: {'groups': [37119411,\n",
       "   49866476,\n",
       "   34215577,\n",
       "   38683579,\n",
       "   31976785,\n",
       "   57846937],\n",
       "  'method': 2},\n",
       " 19370392: {'groups': [29534144,\n",
       "   37119411,\n",
       "   59592700,\n",
       "   29559271,\n",
       "   30022666,\n",
       "   49866476],\n",
       "  'method': 2},\n",
       " 995864: {'groups': [29534144,\n",
       "   65652356,\n",
       "   37119411,\n",
       "   59592700,\n",
       "   29559271,\n",
       "   30022666],\n",
       "  'method': 2},\n",
       " 9558686: {'groups': [29534144,\n",
       "   65652356,\n",
       "   37119411,\n",
       "   29559271,\n",
       "   30022666,\n",
       "   49866476],\n",
       "  'method': 2},\n",
       " 120889121: {'groups': [37119411,\n",
       "   59592700,\n",
       "   29559271,\n",
       "   30022666,\n",
       "   24098496,\n",
       "   38664418],\n",
       "  'method': 2},\n",
       " 11311268: {'groups': [29534144,\n",
       "   65652356,\n",
       "   59592700,\n",
       "   29559271,\n",
       "   30022666,\n",
       "   49866476],\n",
       "  'method': 2},\n",
       " 38628143: {'groups': [29534144,\n",
       "   29559271,\n",
       "   30022666,\n",
       "   24098496,\n",
       "   78019879,\n",
       "   34215577],\n",
       "  'method': 2},\n",
       " 9420850: {'groups': [29534144,\n",
       "   65652356,\n",
       "   59592700,\n",
       "   29559271,\n",
       "   30022666,\n",
       "   24098496],\n",
       "  'method': 2},\n",
       " 12653364: {'groups': [29534144,\n",
       "   65652356,\n",
       "   37119411,\n",
       "   29559271,\n",
       "   30022666,\n",
       "   24098496],\n",
       "  'method': 2},\n",
       " 300102978: {'groups': [37119411,\n",
       "   59592700,\n",
       "   29559271,\n",
       "   30022666,\n",
       "   24098496,\n",
       "   41437811],\n",
       "  'method': 2},\n",
       " 67495362: {'groups': [24098496,\n",
       "   38664418,\n",
       "   78019879,\n",
       "   34215577,\n",
       "   31976785,\n",
       "   57846937],\n",
       "  'method': 2},\n",
       " 267294790: {'groups': [29534144,\n",
       "   65652356,\n",
       "   37119411,\n",
       "   29559271,\n",
       "   30022666,\n",
       "   49866476],\n",
       "  'method': 2},\n",
       " 6173127: {'groups': [65652356,\n",
       "   37119411,\n",
       "   59592700,\n",
       "   29559271,\n",
       "   30022666,\n",
       "   24098496],\n",
       "  'method': 2},\n",
       " 484844105: {'groups': [29534144,\n",
       "   65652356,\n",
       "   37119411,\n",
       "   59592700,\n",
       "   29559271,\n",
       "   30022666],\n",
       "  'method': 2},\n",
       " 59401294: {'groups': [29534144,\n",
       "   37119411,\n",
       "   29559271,\n",
       "   30022666,\n",
       "   49866476,\n",
       "   24098496],\n",
       "  'method': 2},\n",
       " 178159310: {'groups': [29534144,\n",
       "   37119411,\n",
       "   59592700,\n",
       "   29559271,\n",
       "   30022666,\n",
       "   49866476],\n",
       "  'method': 2},\n",
       " 182861903: {'groups': [29534144,\n",
       "   65652356,\n",
       "   37119411,\n",
       "   59592700,\n",
       "   29559271,\n",
       "   30022666],\n",
       "  'method': 2},\n",
       " 5179470: {'groups': [65652356,\n",
       "   37119411,\n",
       "   59592700,\n",
       "   29559271,\n",
       "   30022666,\n",
       "   49866476],\n",
       "  'method': 2},\n",
       " 32670543: {'groups': [29534144,\n",
       "   29559271,\n",
       "   30022666,\n",
       "   34215577,\n",
       "   31480508,\n",
       "   31976785],\n",
       "  'method': 2},\n",
       " 11030995: {'groups': [65652356,\n",
       "   37119411,\n",
       "   29559271,\n",
       "   30022666,\n",
       "   24098496,\n",
       "   34215577],\n",
       "  'method': 2},\n",
       " 182453074: {'groups': [29534144,\n",
       "   65652356,\n",
       "   37119411,\n",
       "   29559271,\n",
       "   30022666,\n",
       "   24098496],\n",
       "  'method': 2},\n",
       " 25567189: {'groups': [65652356,\n",
       "   29559271,\n",
       "   49866476,\n",
       "   24098496,\n",
       "   38664418,\n",
       "   78019879],\n",
       "  'method': 2},\n",
       " 310242262: {'groups': [29534144,\n",
       "   37119411,\n",
       "   59592700,\n",
       "   29559271,\n",
       "   30022666,\n",
       "   49866476],\n",
       "  'method': 2},\n",
       " 22840792: {'groups': [37119411,\n",
       "   30022666,\n",
       "   41437811,\n",
       "   38683579,\n",
       "   31480508,\n",
       "   57846937],\n",
       "  'method': 2},\n",
       " 243561432: {'groups': [29534144,\n",
       "   65652356,\n",
       "   37119411,\n",
       "   59592700,\n",
       "   29559271,\n",
       "   30022666],\n",
       "  'method': 2},\n",
       " 25883865: {'groups': [29534144,\n",
       "   59592700,\n",
       "   30022666,\n",
       "   24098496,\n",
       "   38664418,\n",
       "   78019879],\n",
       "  'method': 2},\n",
       " 171038940: {'groups': [29534144,\n",
       "   65652356,\n",
       "   37119411,\n",
       "   59592700,\n",
       "   29559271,\n",
       "   30022666],\n",
       "  'method': 2},\n",
       " 10804323: {'groups': [29534144,\n",
       "   65652356,\n",
       "   37119411,\n",
       "   29559271,\n",
       "   30022666,\n",
       "   49866476],\n",
       "  'method': 2},\n",
       " 66382695: {'groups': [29534144,\n",
       "   65652356,\n",
       "   59592700,\n",
       "   29559271,\n",
       "   30022666,\n",
       "   49866476],\n",
       "  'method': 2},\n",
       " 284227818: {'groups': [37119411,\n",
       "   59592700,\n",
       "   24098496,\n",
       "   34215577,\n",
       "   31480508,\n",
       "   57846937],\n",
       "  'method': 2},\n",
       " 9183085: {'groups': [29534144,\n",
       "   65652356,\n",
       "   37119411,\n",
       "   59592700,\n",
       "   29559271,\n",
       "   30022666],\n",
       "  'method': 2},\n",
       " 30811126: {'groups': [29534144,\n",
       "   65652356,\n",
       "   37119411,\n",
       "   29559271,\n",
       "   30022666,\n",
       "   49866476],\n",
       "  'method': 2},\n",
       " 8431101: {'groups': [29534144,\n",
       "   65652356,\n",
       "   37119411,\n",
       "   29559271,\n",
       "   30022666,\n",
       "   49866476],\n",
       "  'method': 2}}"
      ]
     },
     "execution_count": 78,
     "metadata": {},
     "output_type": "execute_result"
    }
   ],
   "source": [
    "recs"
   ]
  },
  {
   "cell_type": "code",
   "execution_count": null,
   "metadata": {},
   "outputs": [],
   "source": []
  }
 ],
 "metadata": {
  "kernelspec": {
   "display_name": "Python 3",
   "language": "python",
   "name": "python3"
  },
  "language_info": {
   "codemirror_mode": {
    "name": "ipython",
    "version": 3
   },
   "file_extension": ".py",
   "mimetype": "text/x-python",
   "name": "python",
   "nbconvert_exporter": "python",
   "pygments_lexer": "ipython3",
   "version": "3.6.6"
  },
  "toc": {
   "base_numbering": 1,
   "nav_menu": {},
   "number_sections": true,
   "sideBar": true,
   "skip_h1_title": false,
   "title_cell": "Table of Contents",
   "title_sidebar": "Contents",
   "toc_cell": false,
   "toc_position": {},
   "toc_section_display": true,
   "toc_window_display": false
  }
 },
 "nbformat": 4,
 "nbformat_minor": 2
}
