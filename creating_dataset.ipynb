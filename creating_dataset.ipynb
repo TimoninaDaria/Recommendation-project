{
 "cells": [
  {
   "cell_type": "code",
   "execution_count": null,
   "metadata": {
    "ExecuteTime": {
     "end_time": "2020-09-02T16:49:01.271519Z",
     "start_time": "2020-09-02T16:49:01.263912Z"
    }
   },
   "outputs": [],
   "source": [
    "import pickle\n",
    "d = {'a': 1, 'b': 'ab', 'c': 1.2}\n",
    "\n",
    "with open('data.pickle', 'wb') as f:\n",
    "    pickle.dump(d, f)\n",
    "\n",
    "with open('data.pickle', 'rb') as f:\n",
    "    d_new = pickle.load(f)\n",
    "\n",
    "print(d_new)        # {'b': 'ab', 'c': 1.2, 'a': 1}\n",
    "print(type(d_new))  # <class 'dict'=\"\">"
   ]
  },
  {
   "cell_type": "code",
   "execution_count": null,
   "metadata": {
    "ExecuteTime": {
     "end_time": "2020-09-02T16:49:05.721887Z",
     "start_time": "2020-09-02T16:49:05.538996Z"
    }
   },
   "outputs": [],
   "source": [
    "ids=[]\n",
    "with open('Anna2.txt', 'r') as f:\n",
    "    for line in f:\n",
    "        ids.append(int(line))"
   ]
  },
  {
   "cell_type": "code",
   "execution_count": null,
   "metadata": {
    "ExecuteTime": {
     "end_time": "2019-12-12T19:42:07.510577Z",
     "start_time": "2019-12-12T19:42:07.500838Z"
    }
   },
   "outputs": [],
   "source": [
    "import vk\n",
    "session = vk.Session(access_token = token) # открыть сессию для работы\n",
    "api = vk.API(session) # подключиться к API"
   ]
  },
  {
   "cell_type": "code",
   "execution_count": null,
   "metadata": {
    "ExecuteTime": {
     "end_time": "2019-12-12T20:17:28.816864Z",
     "start_time": "2019-12-12T20:17:28.758797Z"
    }
   },
   "outputs": [],
   "source": [
    "user  = api.users.get(user_id = ids[2],  fields= ['sex', 'bdate', 'city', 'education'], v = 5.89)    "
   ]
  },
  {
   "cell_type": "code",
   "execution_count": null,
   "metadata": {
    "ExecuteTime": {
     "end_time": "2019-12-13T19:19:04.535879Z",
     "start_time": "2019-12-13T19:19:03.796782Z"
    }
   },
   "outputs": [],
   "source": [
    "import vk\n",
    "import time\n",
    "members_set = set()\n",
    "token = '7ac54ce6b8885d58ba50d621396dd24095441b1880a004f8a29a96816e3c8d147c5c9f58f6a3128a5b0f3'\n",
    "session = vk.Session(access_token = token)\n",
    "api = vk.API(session) \n",
    "groups = api.groups.get(user_id = 9183085,v = 5.73)['items'] \n",
    "groups"
   ]
  },
  {
   "cell_type": "code",
   "execution_count": null,
   "metadata": {
    "ExecuteTime": {
     "end_time": "2019-12-13T06:03:31.054314Z",
     "start_time": "2019-12-12T22:54:18.304113Z"
    }
   },
   "outputs": [],
   "source": [
    "list_of_users=[]\n",
    "dict_of_users=dict()\n",
    "k=0\n",
    "import time\n",
    "for i in ids:\n",
    "    print(k, end = ' ')\n",
    "    k=k+1\n",
    "    time.sleep(1)\n",
    "    try :\n",
    "        dic=dict()\n",
    "        groups_of_user = api.groups.get(user_id=i,  v = 5.89)['items']\n",
    "        user  = api.users.get(user_id = i,  fields= ['sex', 'bdate', 'city', 'education'], v = 5.89)    \n",
    "        dic['groups']=groups_of_user\n",
    "    \n",
    "        \n",
    "        try:\n",
    "            if len(user[0]['bdate'].split('.')[-1]) == 4: dic['age'] = 2019 - int(user[0]['bdate'].split('.')[-1])     \n",
    "        except Exception: pass\n",
    "\n",
    "        try: dic['sex']=user[0]['sex']\n",
    "        except Exception: pass\n",
    "\n",
    "        try: dic['university_name']=user[0]['university_name']\n",
    "        except Exception: pass\n",
    "\n",
    "        try: dic['university']=user[0]['university']\n",
    "        except Exception: pass\n",
    "\n",
    "        try: dic['faculty']=user[0]['faculty']\n",
    "        except Exception: pass\n",
    "\n",
    "        try: dic['faculty_name']=user[0]['faculty_name']\n",
    "        except Exception: pass\n",
    "\n",
    "        try: dic['city']=user[0]['city']['id']\n",
    "        except Exception: pass\n",
    "\n",
    "        try: dic['friends']=api.friends.get(user_id=i, v = 5.89)['items']\n",
    "        except Exception: pass\n",
    "\n",
    "        dict_of_users[i]=dic\n",
    "    except Exception:continue\n",
    "            \n"
   ]
  },
  {
   "cell_type": "code",
   "execution_count": null,
   "metadata": {
    "ExecuteTime": {
     "end_time": "2019-12-13T06:35:19.990953Z",
     "start_time": "2019-12-13T06:35:19.959463Z"
    }
   },
   "outputs": [],
   "source": [
    "len(dict_of_users)"
   ]
  },
  {
   "cell_type": "code",
   "execution_count": null,
   "metadata": {
    "ExecuteTime": {
     "end_time": "2019-12-13T19:27:04.557505Z",
     "start_time": "2019-12-13T19:27:04.098579Z"
    }
   },
   "outputs": [],
   "source": [
    "import pickle\n",
    "with open('Anya_persons.pkl', 'wb') as f:\n",
    "    pickle.dump(dict_of_users, f)"
   ]
  },
  {
   "cell_type": "code",
   "execution_count": null,
   "metadata": {
    "ExecuteTime": {
     "end_time": "2019-12-13T19:27:05.741077Z",
     "start_time": "2019-12-13T19:27:05.197641Z"
    }
   },
   "outputs": [],
   "source": [
    "with open('Anya_persons.pkl', 'rb') as f:\n",
    "    d_new = pickle.load(f)\n"
   ]
  },
  {
   "cell_type": "code",
   "execution_count": null,
   "metadata": {
    "ExecuteTime": {
     "end_time": "2019-12-13T19:28:43.159342Z",
     "start_time": "2019-12-13T19:28:43.149873Z"
    }
   },
   "outputs": [],
   "source": [
    "d_new[9183085]['groups']"
   ]
  },
  {
   "cell_type": "code",
   "execution_count": null,
   "metadata": {},
   "outputs": [],
   "source": []
  }
 ],
 "metadata": {
  "kernelspec": {
   "display_name": "Python 3",
   "language": "python",
   "name": "python3"
  },
  "language_info": {
   "codemirror_mode": {
    "name": "ipython",
    "version": 3
   },
   "file_extension": ".py",
   "mimetype": "text/x-python",
   "name": "python",
   "nbconvert_exporter": "python",
   "pygments_lexer": "ipython3",
   "version": "3.6.9"
  },
  "toc": {
   "base_numbering": 1,
   "nav_menu": {},
   "number_sections": true,
   "sideBar": true,
   "skip_h1_title": false,
   "title_cell": "Table of Contents",
   "title_sidebar": "Contents",
   "toc_cell": false,
   "toc_position": {},
   "toc_section_display": true,
   "toc_window_display": false
  }
 },
 "nbformat": 4,
 "nbformat_minor": 2
}
