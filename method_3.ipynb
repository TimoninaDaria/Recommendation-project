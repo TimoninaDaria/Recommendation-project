{
 "cells": [
  {
   "cell_type": "markdown",
   "metadata": {},
   "source": [
    "# Content-based"
   ]
  },
  {
   "cell_type": "code",
   "execution_count": 1,
   "metadata": {
    "ExecuteTime": {
     "end_time": "2019-12-07T16:14:12.820109Z",
     "start_time": "2019-12-07T16:14:06.502937Z"
    }
   },
   "outputs": [],
   "source": [
    "#import vk                                                                       \n",
    "import time                                                                     \n",
    "import pickle                                                                   \n",
    "import numpy as np \n",
    "import collections\n",
    "import itertools\n",
    "from sklearn.metrics.pairwise import cosine_similarity\n",
    "\n",
    "from scipy.sparse import coo_matrix, csr_matrix, csc_matrix\n",
    "from collections import defaultdict                                             \n",
    "                                                                                \n",
    "def save_obj(obj, name ):                                                       \n",
    "    with open(name + '.pkl', 'wb') as f:                                        \n",
    "        pickle.dump(obj, f, pickle.HIGHEST_PROTOCOL)                            \n",
    "                                                                                \n",
    "def load_obj(name ):                                                            \n",
    "    with open(name + '.pkl', 'rb') as f:                                        \n",
    "        return pickle.load(f)"
   ]
  },
  {
   "cell_type": "code",
   "execution_count": 2,
   "metadata": {
    "ExecuteTime": {
     "end_time": "2019-12-07T16:14:26.596450Z",
     "start_time": "2019-12-07T16:14:26.024967Z"
    }
   },
   "outputs": [
    {
     "name": "stdout",
     "output_type": "stream",
     "text": [
      "15209\n",
      "31037\n"
     ]
    }
   ],
   "source": [
    "all_members = {}\n",
    "all_members.update(load_obj('./Anya_persons'))\n",
    "print(len(all_members))\n",
    "all_members.update(load_obj('./Dasha_persons'))\n",
    "print(len(all_members))\n",
    "all_members.update(load_obj('./Maks_persons'))"
   ]
  },
  {
   "cell_type": "code",
   "execution_count": 3,
   "metadata": {
    "ExecuteTime": {
     "end_time": "2019-12-07T16:14:42.340062Z",
     "start_time": "2019-12-07T16:14:42.184466Z"
    }
   },
   "outputs": [],
   "source": [
    "users_with_no_inf = []\n",
    "groups_l = set()\n",
    "for pers in all_members:\n",
    "    try:\n",
    "        groups_l.update(all_members[pers]['groups']) \n",
    "    except Exception: users_with_no_inf.append(pers)\n",
    "groups_l = list(groups_l)"
   ]
  },
  {
   "cell_type": "code",
   "execution_count": 4,
   "metadata": {
    "ExecuteTime": {
     "end_time": "2019-12-07T16:14:56.298373Z",
     "start_time": "2019-12-07T16:14:56.152435Z"
    }
   },
   "outputs": [],
   "source": [
    "groups = {idx:group for idx, group in enumerate(groups_l)}\n",
    "reverse_groups = {group:idx for idx, group in enumerate(groups_l)}"
   ]
  },
  {
   "cell_type": "code",
   "execution_count": 5,
   "metadata": {
    "ExecuteTime": {
     "end_time": "2019-12-07T16:15:15.849481Z",
     "start_time": "2019-12-07T16:15:15.801898Z"
    }
   },
   "outputs": [
    {
     "name": "stdout",
     "output_type": "stream",
     "text": [
      "1141946\n",
      "189802470\n"
     ]
    }
   ],
   "source": [
    "print(max(groups.keys()))\n",
    "print(max(reverse_groups.keys()))"
   ]
  },
  {
   "cell_type": "code",
   "execution_count": 5,
   "metadata": {
    "ExecuteTime": {
     "end_time": "2019-12-07T16:15:23.502993Z",
     "start_time": "2019-12-07T16:15:23.496781Z"
    }
   },
   "outputs": [],
   "source": [
    "for pers in users_with_no_inf:\n",
    "    del all_members[pers]"
   ]
  },
  {
   "cell_type": "code",
   "execution_count": 6,
   "metadata": {
    "ExecuteTime": {
     "end_time": "2019-12-07T16:15:38.978120Z",
     "start_time": "2019-12-07T16:15:38.964560Z"
    }
   },
   "outputs": [],
   "source": [
    "users_l = list(all_members.keys())\n",
    "users = {idx:user for idx, user in enumerate(users_l)}\n",
    "reverse_users = {user:idx for idx, user in enumerate(users_l)}"
   ]
  },
  {
   "cell_type": "code",
   "execution_count": 9,
   "metadata": {},
   "outputs": [
    {
     "name": "stdout",
     "output_type": "stream",
     "text": [
      "46181\n"
     ]
    }
   ],
   "source": [
    "print(len(all_members))"
   ]
  },
  {
   "cell_type": "code",
   "execution_count": 7,
   "metadata": {
    "ExecuteTime": {
     "end_time": "2019-12-07T16:16:01.682820Z",
     "start_time": "2019-12-07T16:16:00.883972Z"
    }
   },
   "outputs": [],
   "source": [
    "data = []\n",
    "row = []\n",
    "col =[]\n",
    "for idx, (user, val) in enumerate(all_members.items()):\n",
    "    for group in val['groups'][0:int(0.03*len(val['groups']))]:\n",
    "        row.append(idx)\n",
    "        data.append(100)\n",
    "        col.append(reverse_groups[group])\n",
    "    for group in val['groups'][int(0.03*len(val['groups'])):int(0.1*len(val['groups']))]:\n",
    "        row.append(idx)\n",
    "        data.append(10)\n",
    "        col.append(reverse_groups[group])\n",
    "    for group in val['groups'][int(0.1*len(val['groups'])):]:\n",
    "        row.append(idx)\n",
    "        data.append(1)\n",
    "        col.append(reverse_groups[group])"
   ]
  },
  {
   "cell_type": "code",
   "execution_count": 8,
   "metadata": {
    "ExecuteTime": {
     "end_time": "2019-12-07T16:16:11.130637Z",
     "start_time": "2019-12-07T16:16:10.540862Z"
    }
   },
   "outputs": [],
   "source": [
    "csr = csr_matrix((np.array(data), (np.array(row),np.array(col))))"
   ]
  },
  {
   "cell_type": "code",
   "execution_count": 9,
   "metadata": {
    "ExecuteTime": {
     "end_time": "2019-12-07T16:16:25.390166Z",
     "start_time": "2019-12-07T16:16:25.364958Z"
    }
   },
   "outputs": [
    {
     "data": {
      "text/plain": [
       "(46181, 1141947)"
      ]
     },
     "execution_count": 9,
     "metadata": {},
     "output_type": "execute_result"
    }
   ],
   "source": [
    "csr.shape"
   ]
  },
  {
   "cell_type": "code",
   "execution_count": 10,
   "metadata": {
    "ExecuteTime": {
     "end_time": "2019-12-07T17:05:29.314342Z",
     "start_time": "2019-12-07T17:05:29.094760Z"
    }
   },
   "outputs": [],
   "source": [
    "from scipy import spatial\n",
    "from lightfm import LightFM\n",
    "from sklearn.metrics import pairwise_distances\n",
    "from scipy.sparse import coo_matrix, csr_matrix, load_npz\n",
    "from sklearn.metrics.pairwise import cosine_similarity\n",
    "model = LightFM(loss='warp', no_components=100, learning_rate=0.03, learning_schedule=\"adadelta\")"
   ]
  },
  {
   "cell_type": "code",
   "execution_count": null,
   "metadata": {
    "ExecuteTime": {
     "end_time": "2019-12-07T17:06:20.837191Z",
     "start_time": "2019-12-07T17:06:09.483555Z"
    }
   },
   "outputs": [],
   "source": [
    "model.fit(coo_matrix(csr), epochs=100, num_threads=40, verbose=True)"
   ]
  },
  {
   "cell_type": "code",
   "execution_count": 12,
   "metadata": {
    "ExecuteTime": {
     "end_time": "2019-12-07T17:07:29.793561Z",
     "start_time": "2019-12-07T17:07:29.787092Z"
    }
   },
   "outputs": [],
   "source": [
    "user_feature_bias, user_feature_embeddings = model.get_user_representations()\n",
    "item_feature_bias, item_feature_embeddings = model.get_item_representations()"
   ]
  },
  {
   "cell_type": "code",
   "execution_count": 13,
   "metadata": {
    "ExecuteTime": {
     "end_time": "2019-12-07T16:17:43.980441Z",
     "start_time": "2019-12-07T16:17:43.971660Z"
    }
   },
   "outputs": [],
   "source": [
    "def precision_for_one(recomend, user_l):\n",
    "    recomend = set(recomend)\n",
    "    groups_of_user = set(all_members[user_l]['groups'])\n",
    "    TP = len(recomend&groups_of_user)\n",
    "    return TP/6."
   ]
  },
  {
   "cell_type": "code",
   "execution_count": 44,
   "metadata": {
    "ExecuteTime": {
     "end_time": "2019-12-07T16:18:07.463221Z",
     "start_time": "2019-12-07T16:18:07.446442Z"
    }
   },
   "outputs": [],
   "source": [
    "import random\n",
    "users_for_test = random.sample(users_l, 100)"
   ]
  },
  {
   "cell_type": "code",
   "execution_count": 56,
   "metadata": {},
   "outputs": [],
   "source": [
    "def content_based_recomendation(user_l, item_feature_embeddings):\n",
    "    groups_for_recommend = []\n",
    "    groups_of_user = all_members[user_l]['groups']\n",
    "    groups_of_user_revers = []\n",
    "    for i in groups_of_user[0:6]:\n",
    "         groups_of_user_revers.append(reverse_groups[i])\n",
    "    for i in groups_of_user_revers:\n",
    "        metrics = list(cosine_similarity(item_feature_embeddings[i].reshape(1, -1),  item_feature_embeddings)[0])   \n",
    "        sorted_keys = sorted(range(len(metrics)), key=metrics.__getitem__, reverse = True)\n",
    "        for j, val in enumerate(sorted_keys):\n",
    "            if val != i and (groups[val] not in groups_for_recommend) and (groups[val] not in groups_of_user): \n",
    "                best_group = val\n",
    "                break\n",
    "        groups_for_recommend.append(groups[best_group])\n",
    "    return groups_for_recommend\n"
   ]
  },
  {
   "cell_type": "code",
   "execution_count": 29,
   "metadata": {},
   "outputs": [
    {
     "data": {
      "text/plain": [
       "[161180646, 23611958, 127430746, 18517784, 354372, 132528325]"
      ]
     },
     "execution_count": 29,
     "metadata": {},
     "output_type": "execute_result"
    }
   ],
   "source": [
    "content_based_recomendation(9183085, item_feature_embeddings)"
   ]
  },
  {
   "cell_type": "code",
   "execution_count": null,
   "metadata": {},
   "outputs": [],
   "source": [
    "#делаем рекомендации для группы из 100 человек и считаем средний precision\n",
    "list_of_prec = []\n",
    "for user_l in users_for_test:\n",
    "    recomend = content_based_recomendation(user_l, item_feature_embeddings)    \n",
    "    list_of_prec.append(precision_for_one(recomend, user_l))"
   ]
  },
  {
   "cell_type": "code",
   "execution_count": 48,
   "metadata": {},
   "outputs": [
    {
     "data": {
      "text/plain": [
       "0.1966666666666668"
      ]
     },
     "execution_count": 48,
     "metadata": {},
     "output_type": "execute_result"
    }
   ],
   "source": [
    "sum(list_of_prec)/len(list_of_prec)"
   ]
  },
  {
   "cell_type": "code",
   "execution_count": 58,
   "metadata": {},
   "outputs": [
    {
     "data": {
      "text/plain": [
       "[161180646, 69547083, 155161349, 18517784, 48149358, 144437844]"
      ]
     },
     "execution_count": 58,
     "metadata": {},
     "output_type": "execute_result"
    }
   ],
   "source": [
    "content_based_recomendation(9183085, item_feature_embeddings)   "
   ]
  },
  {
   "cell_type": "code",
   "execution_count": 31,
   "metadata": {},
   "outputs": [],
   "source": [
    "friends_for_test = []"
   ]
  },
  {
   "cell_type": "code",
   "execution_count": 32,
   "metadata": {},
   "outputs": [],
   "source": [
    "with open('All_friends.txt' , 'r') as f:\n",
    "    for line in f:\n",
    "        friends_for_test.append(int(line))   "
   ]
  },
  {
   "cell_type": "code",
   "execution_count": 36,
   "metadata": {},
   "outputs": [],
   "source": [
    "dict_friends_test = dict()\n",
    "for pers in friends_for_test:\n",
    "    if pers in users_l:\n",
    "        dict_friends_test[pers] = dict()\n",
    "        dict_friends_test[pers]['groups'] = content_based_recomendation(pers, item_feature_embeddings)   \n",
    "        dict_friends_test[pers]['method'] = 3"
   ]
  },
  {
   "cell_type": "code",
   "execution_count": 38,
   "metadata": {},
   "outputs": [],
   "source": [
    "with open('Dasha_recs_3.pkl', 'wb') as f:\n",
    "    pickle.dump(dict_friends_test , f)"
   ]
  },
  {
   "cell_type": "code",
   "execution_count": null,
   "metadata": {},
   "outputs": [],
   "source": []
  }
 ],
 "metadata": {
  "kernelspec": {
   "display_name": "Python 3",
   "language": "python",
   "name": "python3"
  },
  "language_info": {
   "codemirror_mode": {
    "name": "ipython",
    "version": 3
   },
   "file_extension": ".py",
   "mimetype": "text/x-python",
   "name": "python",
   "nbconvert_exporter": "python",
   "pygments_lexer": "ipython3",
   "version": "3.6.9"
  },
  "toc": {
   "base_numbering": 1,
   "nav_menu": {},
   "number_sections": true,
   "sideBar": true,
   "skip_h1_title": false,
   "title_cell": "Table of Contents",
   "title_sidebar": "Contents",
   "toc_cell": false,
   "toc_position": {},
   "toc_section_display": true,
   "toc_window_display": false
  }
 },
 "nbformat": 4,
 "nbformat_minor": 4
}
