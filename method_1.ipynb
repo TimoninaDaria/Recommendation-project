{
 "cells": [
  {
   "cell_type": "markdown",
   "metadata": {},
   "source": [
    "# Коллаборативная фильтрация с учетом любимых групп"
   ]
  },
  {
   "cell_type": "code",
   "execution_count": 1,
   "metadata": {
    "ExecuteTime": {
     "end_time": "2020-09-02T17:16:44.656357Z",
     "start_time": "2020-09-02T17:16:28.424101Z"
    }
   },
   "outputs": [],
   "source": [
    "import vk                                                                       \n",
    "import time                                                                     \n",
    "import pickle                                                                   \n",
    "import numpy as np \n",
    "import collections\n",
    "import itertools\n",
    "import webbrowser\n",
    "from time import sleep\n",
    "from sklearn.metrics.pairwise import cosine_similarity\n",
    "\n",
    "from scipy.sparse import coo_matrix, csr_matrix, csc_matrix\n",
    "from collections import defaultdict                                             \n",
    "                                                                                \n",
    "def save_obj(obj, name ):                                                       \n",
    "    with open(name + '.pkl', 'wb') as f:                                        \n",
    "        pickle.dump(obj, f, pickle.HIGHEST_PROTOCOL)                            \n",
    "                                                                                \n",
    "def load_obj(name ):                                                            \n",
    "    with open(name + '.pkl', 'rb') as f:                                        \n",
    "        return pickle.load(f)"
   ]
  },
  {
   "cell_type": "code",
   "execution_count": null,
   "metadata": {
    "ExecuteTime": {
     "end_time": "2020-09-02T17:16:44.902781Z",
     "start_time": "2020-09-02T17:16:44.658759Z"
    }
   },
   "outputs": [],
   "source": [
    "all_members = {}\n",
    "all_members.update(load_obj('./Anya_persons'))\n",
    "print(len(all_members))\n",
    "all_members.update(load_obj('./Dasha_persons'))\n",
    "print(len(all_members))\n",
    "all_members.update(load_obj('./Maks_persond_processed'))\n",
    "print(len(all_members))"
   ]
  },
  {
   "cell_type": "code",
   "execution_count": 3,
   "metadata": {
    "ExecuteTime": {
     "end_time": "2019-12-17T08:45:11.786710Z",
     "start_time": "2019-12-17T08:45:10.252020Z"
    }
   },
   "outputs": [],
   "source": [
    "groups_l = set()\n",
    "for pers in all_members:\n",
    "    groups_l.update(all_members[pers]['groups']) \n",
    "groups_l = list(groups_l)"
   ]
  },
  {
   "cell_type": "code",
   "execution_count": 4,
   "metadata": {
    "ExecuteTime": {
     "end_time": "2019-12-17T08:45:12.502662Z",
     "start_time": "2019-12-17T08:45:11.789747Z"
    }
   },
   "outputs": [],
   "source": [
    "groups = {idx:group for idx, group in enumerate(groups_l)}\n",
    "reverse_groups = {group:idx for idx, group in enumerate(groups_l)}"
   ]
  },
  {
   "cell_type": "code",
   "execution_count": 5,
   "metadata": {
    "ExecuteTime": {
     "end_time": "2019-12-17T08:45:12.651008Z",
     "start_time": "2019-12-17T08:45:12.504889Z"
    }
   },
   "outputs": [
    {
     "name": "stdout",
     "output_type": "stream",
     "text": [
      "1141951\n",
      "189802470\n"
     ]
    }
   ],
   "source": [
    "print(max(groups.keys()))\n",
    "print(max(reverse_groups.keys()))"
   ]
  },
  {
   "cell_type": "code",
   "execution_count": 6,
   "metadata": {
    "ExecuteTime": {
     "end_time": "2019-12-17T08:45:12.793996Z",
     "start_time": "2019-12-17T08:45:12.653650Z"
    }
   },
   "outputs": [],
   "source": [
    "users_l = list(all_members.keys())\n",
    "users = {idx:user for idx, user in enumerate(users_l)}\n",
    "reverse_users = {user:idx for idx, user in enumerate(users_l)}"
   ]
  },
  {
   "cell_type": "code",
   "execution_count": 27,
   "metadata": {
    "ExecuteTime": {
     "end_time": "2019-12-17T08:51:06.536992Z",
     "start_time": "2019-12-17T08:51:06.534476Z"
    }
   },
   "outputs": [],
   "source": [
    "best_groups = True"
   ]
  },
  {
   "cell_type": "code",
   "execution_count": 28,
   "metadata": {
    "ExecuteTime": {
     "end_time": "2019-12-17T08:51:07.331928Z",
     "start_time": "2019-12-17T08:51:07.315448Z"
    }
   },
   "outputs": [],
   "source": [
    "\n",
    "my_friends_for_test=[995864,6173127,6811139,8431101,9420850,10804323,11030995,14245770,17468315,22840792,25567189,25883865,29145732,49363671,62369794,66382695,78330794,171038940,178159310,182861903,292309514,38628143]\n",
    "users_for_test =[995864,6173127,6811139,8431101,9420850,10804323,11030995,14245770,17468315,22840792,25567189,25883865,29145732,49363671,62369794,66382695,78330794,171038940,178159310,182861903,292309514,38628143,59401294,33436943,12653364,300102978,284227818,120889121,120522331,310242262,82046724,120942983,243561432,267294790,5179470,9558686,17260358,32670543,89754899,484844105,187961856,139106107,182453074,11311268,19370392,67495362]"
   ]
  },
  {
   "cell_type": "code",
   "execution_count": 29,
   "metadata": {
    "ExecuteTime": {
     "end_time": "2019-12-17T08:51:14.313286Z",
     "start_time": "2019-12-17T08:51:08.089807Z"
    }
   },
   "outputs": [],
   "source": [
    "data = []\n",
    "row = []\n",
    "col =[]\n",
    "#boundaries\n",
    "#подбираем границы по баллам для любимых групп\n",
    "first = 0.03\n",
    "second = 0.1\n",
    "if best_groups:\n",
    "    for idx, (user, val) in enumerate(all_members.items()):\n",
    "        for group in val['groups'][0:int(first*len(val['groups']))]:\n",
    "            row.append(idx)\n",
    "            data.append(100)\n",
    "            col.append(reverse_groups[group])\n",
    "        for group in val['groups'][int(first*len(val['groups'])):int(second*len(val['groups']))]:\n",
    "            row.append(idx)\n",
    "            data.append(10)\n",
    "            col.append(reverse_groups[group])\n",
    "        for group in val['groups'][int(second*len(val['groups'])):]:\n",
    "            row.append(idx)\n",
    "            data.append(1)\n",
    "            col.append(reverse_groups[group])\n",
    "else:\n",
    "    for idx, (user, val) in enumerate(all_members.items()):\n",
    "        for group in val['groups']:\n",
    "            row.append(idx)\n",
    "            data.append(1)\n",
    "            col.append(reverse_groups[group])\n",
    "    "
   ]
  },
  {
   "cell_type": "code",
   "execution_count": 30,
   "metadata": {
    "ExecuteTime": {
     "end_time": "2019-12-17T08:51:17.936713Z",
     "start_time": "2019-12-17T08:51:14.315264Z"
    }
   },
   "outputs": [],
   "source": [
    "csr = csr_matrix((np.array(data), (np.array(row),np.array(col))))"
   ]
  },
  {
   "cell_type": "code",
   "execution_count": 31,
   "metadata": {
    "ExecuteTime": {
     "end_time": "2019-12-17T08:51:17.942150Z",
     "start_time": "2019-12-17T08:51:17.938507Z"
    }
   },
   "outputs": [
    {
     "data": {
      "text/plain": [
       "(46170, 1141952)"
      ]
     },
     "execution_count": 31,
     "metadata": {},
     "output_type": "execute_result"
    }
   ],
   "source": [
    "csr.shape"
   ]
  },
  {
   "cell_type": "code",
   "execution_count": 32,
   "metadata": {
    "ExecuteTime": {
     "end_time": "2019-12-17T08:51:18.008241Z",
     "start_time": "2019-12-17T08:51:17.944024Z"
    }
   },
   "outputs": [],
   "source": [
    "def recs(idx, csr_a):\n",
    "    # считаем косинус между всеми пользователями\n",
    "    metrics = cosine_similarity(csr_a.getrow(idx).toarray().reshape(1,-1), csr_a).reshape(-1, 1)\n",
    "    metrics[idx] = 0\n",
    "    # домножаем оценки пользовтеля на коэффициент похожести\n",
    "\n",
    "    csr_a = csr_a.multiply(metrics)\n",
    "    total_rate = np.sum(csr_a, axis=0)\n",
    "    return total_rate"
   ]
  },
  {
   "cell_type": "code",
   "execution_count": 33,
   "metadata": {
    "ExecuteTime": {
     "end_time": "2019-12-17T08:51:18.091339Z",
     "start_time": "2019-12-17T08:51:18.013776Z"
    }
   },
   "outputs": [],
   "source": [
    "def get_sort(csr_a, user_l):\n",
    "    user = reverse_users[user_l]\n",
    "    t = recs(user, csr) \n",
    "    a = t.tolist()\n",
    "    a = a[0]\n",
    "    a = [(j,i) for i , j in enumerate(a)]\n",
    "    a.sort(key=lambda i: i[0], reverse=True)\n",
    "    return a"
   ]
  },
  {
   "cell_type": "code",
   "execution_count": 34,
   "metadata": {
    "ExecuteTime": {
     "end_time": "2019-12-17T08:51:18.186294Z",
     "start_time": "2019-12-17T08:51:18.099277Z"
    }
   },
   "outputs": [],
   "source": [
    "def precision_for_one(csr, user_l):\n",
    "    recomend = set([groups[idx] for score, idx in get_sort(csr, user_l)[:6]])\n",
    "    groups_of_user = set(all_members[user_l]['groups'])\n",
    "    TP = len(recomend&groups_of_user)\n",
    "    return TP/6."
   ]
  },
  {
   "cell_type": "code",
   "execution_count": 15,
   "metadata": {
    "ExecuteTime": {
     "end_time": "2019-12-17T08:45:24.220054Z",
     "start_time": "2019-12-17T08:45:24.066872Z"
    }
   },
   "outputs": [],
   "source": [
    "def open_links(is_groups, user_groups):\n",
    "    user, groups = user_groups\n",
    "    webbrowser.open('https://vk.com/id'+str(user))\n",
    "    for group in groups:\n",
    "        sleep(0.8)\n",
    "        webbrowser.open('https://vk.com/public' + str(group))"
   ]
  },
  {
   "cell_type": "code",
   "execution_count": 59,
   "metadata": {
    "ExecuteTime": {
     "end_time": "2019-12-16T12:39:13.324163Z",
     "start_time": "2019-12-16T12:39:13.257322Z"
    }
   },
   "outputs": [],
   "source": [
    "import random\n",
    "users_for_test = random.sample(users_l, 1000)"
   ]
  },
  {
   "cell_type": "code",
   "execution_count": 35,
   "metadata": {
    "ExecuteTime": {
     "end_time": "2019-12-17T08:52:16.370215Z",
     "start_time": "2019-12-17T08:51:18.192771Z"
    }
   },
   "outputs": [
    {
     "data": {
      "text/plain": [
       "0.6851851851851851"
      ]
     },
     "execution_count": 35,
     "metadata": {},
     "output_type": "execute_result"
    }
   ],
   "source": [
    "list_of_prec = []\n",
    "out_users = []\n",
    "for i in users_for_test:\n",
    "    try:\n",
    "        list_of_prec.append(precision_for_one(csr, i))\n",
    "        out_users.append(i)\n",
    "    except :\n",
    "        continue\n",
    "sum(list_of_prec)/len(list_of_prec)\n",
    "# средний precision для рандомной выборки из 1000 пользователей:"
   ]
  },
  {
   "cell_type": "code",
   "execution_count": 37,
   "metadata": {
    "ExecuteTime": {
     "end_time": "2019-12-17T08:52:37.858537Z",
     "start_time": "2019-12-17T08:52:34.080095Z"
    }
   },
   "outputs": [],
   "source": [
    "out = {}\n",
    "drop = True\n",
    "users_for_test = [9183085,30811126]\n",
    "for user_id in users_for_test:\n",
    "    try:\n",
    "        gr = get_sort(csr, user_id)\n",
    "        out[user_id] = {}\n",
    "        out[user_id]['groups'] = []\n",
    "        out[user_id]['method'] = 1\n",
    "        for g in gr:\n",
    "            if drop:\n",
    "                if groups[g[1]] not in all_members[user_id]['groups']:\n",
    "                    out[user_id]['groups'].append(groups[g[1]])\n",
    "            else:\n",
    "                out[user_id].append(groups[g[1]])\n",
    "            if len(out[user_id]['groups']) == 6:\n",
    "                break\n",
    "    except :\n",
    "        continue\n"
   ]
  },
  {
   "cell_type": "code",
   "execution_count": 112,
   "metadata": {
    "ExecuteTime": {
     "end_time": "2019-12-15T18:27:24.952825Z",
     "start_time": "2019-12-15T18:27:19.151464Z"
    }
   },
   "outputs": [],
   "source": [
    "open_links(True, list(out.items())[2])"
   ]
  },
  {
   "cell_type": "code",
   "execution_count": 38,
   "metadata": {
    "ExecuteTime": {
     "end_time": "2019-12-17T08:52:39.467180Z",
     "start_time": "2019-12-17T08:52:39.462315Z"
    }
   },
   "outputs": [
    {
     "data": {
      "text/plain": [
       "(30811126,\n",
       " {'groups': [43776215, 57846937, 91050183, 41437811, 139923997, 29559271],\n",
       "  'method': 1})"
      ]
     },
     "execution_count": 38,
     "metadata": {},
     "output_type": "execute_result"
    }
   ],
   "source": [
    "list(out.items())[1]"
   ]
  },
  {
   "cell_type": "code",
   "execution_count": 39,
   "metadata": {
    "ExecuteTime": {
     "end_time": "2019-12-17T08:52:44.523176Z",
     "start_time": "2019-12-17T08:52:44.519806Z"
    }
   },
   "outputs": [],
   "source": [
    "save_obj(out,'Maks_recs_Dasha_Anya_1')"
   ]
  },
  {
   "cell_type": "code",
   "execution_count": 139,
   "metadata": {
    "ExecuteTime": {
     "end_time": "2019-12-15T20:04:21.861305Z",
     "start_time": "2019-12-15T20:04:21.857697Z"
    }
   },
   "outputs": [],
   "source": [
    "save_obj(out,'Maks_recs_0.pkl')"
   ]
  },
  {
   "cell_type": "code",
   "execution_count": 140,
   "metadata": {
    "ExecuteTime": {
     "end_time": "2019-12-15T20:04:21.957871Z",
     "start_time": "2019-12-15T20:04:21.863987Z"
    }
   },
   "outputs": [
    {
     "data": {
      "text/plain": [
       "36"
      ]
     },
     "execution_count": 140,
     "metadata": {},
     "output_type": "execute_result"
    }
   ],
   "source": [
    "len(out)"
   ]
  },
  {
   "cell_type": "code",
   "execution_count": 13,
   "metadata": {
    "ExecuteTime": {
     "end_time": "2019-12-15T11:02:01.319581Z",
     "start_time": "2019-12-15T11:02:01.314786Z"
    }
   },
   "outputs": [],
   "source": [
    "maks = reverse_users[57583179]"
   ]
  },
  {
   "cell_type": "code",
   "execution_count": 14,
   "metadata": {
    "ExecuteTime": {
     "end_time": "2019-12-15T11:02:03.793297Z",
     "start_time": "2019-12-15T11:02:02.315561Z"
    }
   },
   "outputs": [],
   "source": [
    "t = recs(maks, csr)"
   ]
  },
  {
   "cell_type": "code",
   "execution_count": 16,
   "metadata": {
    "ExecuteTime": {
     "end_time": "2019-12-15T11:03:16.227029Z",
     "start_time": "2019-12-15T11:03:12.282631Z"
    }
   },
   "outputs": [
    {
     "name": "stdout",
     "output_type": "stream",
     "text": [
      "['https://vk.com/public65652356', 'https://vk.com/public29534144', 'https://vk.com/public78019879', 'https://vk.com/public38664418', 'https://vk.com/public63731512', 'https://vk.com/public30022666', 'https://vk.com/public76982440', 'https://vk.com/public29559271', 'https://vk.com/public24098496', 'https://vk.com/public34215577']\n"
     ]
    }
   ],
   "source": [
    "a = t.tolist()\n",
    "a = a[0]\n",
    "a = [(j,i) for i , j in enumerate(a) ]\n",
    "#скор номер\n",
    "a.sort(key=lambda i: i[0], reverse=True)\n",
    "i = [(s,i) for s, i in a if groups[i] not in all_members[57583179]['groups']][:10]\n",
    "print(['https://vk.com/public'+str(groups[idx]) for score, idx in i])"
   ]
  },
  {
   "cell_type": "code",
   "execution_count": 59,
   "metadata": {
    "ExecuteTime": {
     "end_time": "2019-12-15T12:30:40.420527Z",
     "start_time": "2019-12-15T12:30:40.354925Z"
    }
   },
   "outputs": [
    {
     "data": {
      "text/plain": [
       "True"
      ]
     },
     "execution_count": 59,
     "metadata": {},
     "output_type": "execute_result"
    }
   ],
   "source": [
    "import webbrowser\n",
    "\n",
    "# generate an URL\n",
    "url = 'https://vk.com/write25883865'\n",
    "webbrowser.open(url)"
   ]
  }
 ],
 "metadata": {
  "kernelspec": {
   "display_name": "Python 3",
   "language": "python",
   "name": "python3"
  },
  "language_info": {
   "codemirror_mode": {
    "name": "ipython",
    "version": 3
   },
   "file_extension": ".py",
   "mimetype": "text/x-python",
   "name": "python",
   "nbconvert_exporter": "python",
   "pygments_lexer": "ipython3",
   "version": "3.6.9"
  },
  "toc": {
   "base_numbering": 1,
   "nav_menu": {},
   "number_sections": true,
   "sideBar": true,
   "skip_h1_title": false,
   "title_cell": "Table of Contents",
   "title_sidebar": "Contents",
   "toc_cell": false,
   "toc_position": {},
   "toc_section_display": true,
   "toc_window_display": false
  }
 },
 "nbformat": 4,
 "nbformat_minor": 2
}
