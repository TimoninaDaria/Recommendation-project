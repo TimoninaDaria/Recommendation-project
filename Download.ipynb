{
 "cells": [
  {
   "cell_type": "code",
   "execution_count": null,
   "metadata": {
    "ExecuteTime": {
     "end_time": "2020-09-02T16:40:02.893101Z",
     "start_time": "2020-09-02T16:39:56.355813Z"
    }
   },
   "outputs": [],
   "source": [
    "import vk\n",
    "import time\n",
    "members_set = set()\n",
    "token = 'e738750dadf8020d6f4686a220a4cc8b07e4a7fd6f223578061ce049508e9ff6cbb6aaa03c93a1499d6dc'\n",
    "session = vk.Session(access_token = token)\n",
    "api = vk.API(session) \n",
    "group = 'overhear_msu'\n",
    "for ofset in range(0, 70):\n",
    "    time.sleep(1)\n",
    "    members = api.groups.getMembers(group_id = group,  v = 5.73, offset = ofset*1000)['items']\n",
    "    print(len(members))\n",
    "    for i in members:\n",
    "        members_set.add(i)\n",
    "members_set = list(members_set)\n",
    "\n",
    " "
   ]
  },
  {
   "cell_type": "code",
   "execution_count": null,
   "metadata": {},
   "outputs": [],
   "source": [
    "print(len(set(members_set)))"
   ]
  },
  {
   "cell_type": "code",
   "execution_count": null,
   "metadata": {},
   "outputs": [],
   "source": [
    "with open('Anna.txt', 'w') as f:\n",
    "    for person in members_set[0:22000]:\n",
    "        f.write(str(person)+'\\n')\n",
    "with open('Maks.txt', 'w') as f:\n",
    "    for person in members_set[22000:44000]:\n",
    "        f.write(str(person)+'\\n')\n",
    "        "
   ]
  },
  {
   "cell_type": "code",
   "execution_count": null,
   "metadata": {},
   "outputs": [],
   "source": [
    "dict_of_persons = dict()\n",
    "my_part_persons = members_set[44000:-1] \n",
    "for pers in my_part_persons:\n",
    "    print(pers)\n",
    "    time.sleep(1)\n",
    "    try:\n",
    "        groups = api.groups.get(user_id = pers,v = 5.73)['items'] \n",
    "    except Exception: continue\n",
    "    dict_of_persons[pers] = dict()\n",
    "    dict_of_persons[pers]['groups'] = groups\n",
    "    try:\n",
    "        friends = api.friends.get(user_id = pers,v = 5.73, count = 10000)['items'] \n",
    "        dict_of_persons[pers]['friends'] = friends\n",
    "    except Exception: pass\n",
    "    time.sleep(1)\n",
    "    member  = api.users.get(user_id = pers,  fields= ['first_name', 'last_name',  'career', 'is_closed', \n",
    "                                                       'sex', 'city', 'country', 'bdate', 'relation', 'education', \n",
    "                                                       'followers_count'], v = 5.89)    \n",
    "    for j in ['sex', 'university', 'faculty', 'faculty_name', 'university_name']:\n",
    "        try:  dict_of_persons[pers][j] = member[0][j]\n",
    "        except Exception: continue\n",
    "    try:  dict_of_persons[pers]['city'] = member[0]['city']['id']\n",
    "    except Exception: continue  \n",
    "    try: \n",
    "        if len(member[0]['bdate'].split('.')[-1]) == 4: dict_of_persons[pers]['age'] = 2019 - int(member[0]['bdate'].split('.')[-1])     \n",
    "    except Exception: pass"
   ]
  },
  {
   "cell_type": "code",
   "execution_count": null,
   "metadata": {},
   "outputs": [],
   "source": [
    "print(len(dict_of_persons))"
   ]
  },
  {
   "cell_type": "code",
   "execution_count": null,
   "metadata": {},
   "outputs": [],
   "source": [
    "import pickle"
   ]
  },
  {
   "cell_type": "code",
   "execution_count": null,
   "metadata": {},
   "outputs": [],
   "source": [
    "with open('Dasha_persons_new.pickle', 'wb') as f:\n",
    "    pickle.dump(dict_of_persons, f)"
   ]
  },
  {
   "cell_type": "code",
   "execution_count": null,
   "metadata": {},
   "outputs": [],
   "source": [
    "with open('Dasha_persons.pickle', 'rb') as f:\n",
    "    test = pickle.load(f)"
   ]
  }
 ],
 "metadata": {
  "kernelspec": {
   "display_name": "Python 3",
   "language": "python",
   "name": "python3"
  },
  "language_info": {
   "codemirror_mode": {
    "name": "ipython",
    "version": 3
   },
   "file_extension": ".py",
   "mimetype": "text/x-python",
   "name": "python",
   "nbconvert_exporter": "python",
   "pygments_lexer": "ipython3",
   "version": "3.6.9"
  }
 },
 "nbformat": 4,
 "nbformat_minor": 2
}
