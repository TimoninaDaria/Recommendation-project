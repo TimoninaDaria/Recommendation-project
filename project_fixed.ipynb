{
 "cells": [
  {
   "cell_type": "code",
   "execution_count": 1,
   "metadata": {},
   "outputs": [],
   "source": [
    "import vk                                                                       \n",
    "import time                                                                     \n",
    "import pickle                                                                   \n",
    "import numpy as np \n",
    "import collections\n",
    "import itertools\n",
    "from sklearn.metrics.pairwise import cosine_similarity\n",
    "\n",
    "from scipy.sparse import coo_matrix, csr_matrix, csc_matrix\n",
    "from collections import defaultdict                                             \n",
    "                                                                                \n",
    "def save_obj(obj, name ):                                                       \n",
    "    with open(name + '.pkl', 'wb') as f:                                        \n",
    "        pickle.dump(obj, f, pickle.HIGHEST_PROTOCOL)                            \n",
    "                                                                                \n",
    "def load_obj(name ):                                                            \n",
    "    with open(name + '.pkl', 'rb') as f:                                        \n",
    "        return pickle.load(f)  "
   ]
  },
  {
   "cell_type": "code",
   "execution_count": 2,
   "metadata": {},
   "outputs": [
    {
     "name": "stdout",
     "output_type": "stream",
     "text": [
      "2337\n",
      "4792\n"
     ]
    }
   ],
   "source": [
    "all_members = {}\n",
    "all_members.update(load_obj('./Anya_persons'))\n",
    "print(len(all_members))\n",
    "all_members.update(load_obj('./Dasha_persons'))\n",
    "print(len(all_members))\n",
    "all_members.update(load_obj('./Maks_persons'))"
   ]
  },
  {
   "cell_type": "code",
   "execution_count": 4,
   "metadata": {},
   "outputs": [],
   "source": [
    "users_with_no_inf = []\n",
    "groups_l = set()\n",
    "for pers in all_members:\n",
    "    try:\n",
    "        groups_l.update(all_members[pers]['groups']) \n",
    "    except Exception: users_with_no_inf.append(pers)\n",
    "groups_l = list(groups_l)"
   ]
  },
  {
   "cell_type": "code",
   "execution_count": 5,
   "metadata": {},
   "outputs": [],
   "source": [
    "groups = {idx:group for idx, group in enumerate(groups_l)}\n",
    "reverse_groups = {group:idx for idx, group in enumerate(groups_l)}\n"
   ]
  },
  {
   "cell_type": "code",
   "execution_count": 6,
   "metadata": {},
   "outputs": [
    {
     "name": "stdout",
     "output_type": "stream",
     "text": [
      "324701\n",
      "189381412\n"
     ]
    }
   ],
   "source": [
    "print(max(groups.keys()))\n",
    "print(max(reverse_groups.keys()))"
   ]
  },
  {
   "cell_type": "code",
   "execution_count": 7,
   "metadata": {},
   "outputs": [],
   "source": [
    "for pers in users_with_no_inf:\n",
    "    del all_members[pers]"
   ]
  },
  {
   "cell_type": "code",
   "execution_count": 8,
   "metadata": {},
   "outputs": [],
   "source": [
    "users_l = list(all_members.keys())\n",
    "users = {idx:user for idx, user in enumerate(users_l)}\n",
    "reverse_users = {user:idx for idx, user in enumerate(users_l)}"
   ]
  },
  {
   "cell_type": "code",
   "execution_count": 9,
   "metadata": {},
   "outputs": [],
   "source": [
    "data = []\n",
    "row = []\n",
    "col =[]\n",
    "for idx, (user, val) in enumerate(all_members.items()):\n",
    "    for group in val['groups'][0:int(0.33*len(val['groups']))]:\n",
    "        row.append(idx)\n",
    "        data.append(3)\n",
    "        col.append(reverse_groups[group])\n",
    "    for group in val['groups'][int(0.33*len(val['groups'])):int(0.66*len(val['groups']))]:\n",
    "        row.append(idx)\n",
    "        data.append(2)\n",
    "        col.append(reverse_groups[group])\n",
    "    for group in val['groups'][int(0.66*len(val['groups'])):]:\n",
    "        row.append(idx)\n",
    "        data.append(1)\n",
    "        col.append(reverse_groups[group])"
   ]
  },
  {
   "cell_type": "code",
   "execution_count": 10,
   "metadata": {},
   "outputs": [],
   "source": [
    "csr = csr_matrix((np.array(data), (np.array(row),np.array(col))))"
   ]
  },
  {
   "cell_type": "code",
   "execution_count": 11,
   "metadata": {},
   "outputs": [
    {
     "data": {
      "text/plain": [
       "(7132, 324702)"
      ]
     },
     "execution_count": 11,
     "metadata": {},
     "output_type": "execute_result"
    }
   ],
   "source": [
    "csr.shape\n"
   ]
  },
  {
   "cell_type": "code",
   "execution_count": 12,
   "metadata": {},
   "outputs": [],
   "source": [
    "def recs(idx, csr_a):\n",
    "    # считаем косинус между всеми пользователями\n",
    "    metrics = cosine_similarity(csr_a.getrow(idx).toarray().reshape(1,-1), csr_a).reshape(-1, 1)\n",
    "    # домножаем оценки пользовтеля на коэффициент похожести\n",
    "\n",
    "    csr_a = csr_a.multiply( metrics)\n",
    "    total_rate = np.sum(csr_a, axis=0)\n",
    "    return total_rate"
   ]
  },
  {
   "cell_type": "code",
   "execution_count": 13,
   "metadata": {},
   "outputs": [
    {
     "data": {
      "text/plain": [
       "1822"
      ]
     },
     "execution_count": 13,
     "metadata": {},
     "output_type": "execute_result"
    }
   ],
   "source": [
    "dasha = reverse_users[9183085]\n",
    "dasha"
   ]
  },
  {
   "cell_type": "code",
   "execution_count": 14,
   "metadata": {},
   "outputs": [],
   "source": [
    "\n",
    "t = recs(dasha, csr)"
   ]
  },
  {
   "cell_type": "code",
   "execution_count": 15,
   "metadata": {},
   "outputs": [],
   "source": [
    "a = t.tolist()"
   ]
  },
  {
   "cell_type": "code",
   "execution_count": 16,
   "metadata": {},
   "outputs": [],
   "source": [
    "a = a[0]"
   ]
  },
  {
   "cell_type": "code",
   "execution_count": 17,
   "metadata": {},
   "outputs": [],
   "source": [
    "a = [(j,i) for i , j in enumerate(a) ]"
   ]
  },
  {
   "cell_type": "code",
   "execution_count": 18,
   "metadata": {},
   "outputs": [],
   "source": [
    "a.sort(key=lambda i: i[0], reverse=True)"
   ]
  },
  {
   "cell_type": "code",
   "execution_count": 19,
   "metadata": {},
   "outputs": [
    {
     "name": "stdout",
     "output_type": "stream",
     "text": [
      "[1441, 54295855, 29534144, 29559271, 49866476, 31976785, 65652356, 63731512, 37119411, 41437811]\n"
     ]
    }
   ],
   "source": [
    "#reverse_groups = {val:key for key, val in groups.items()}\n",
    "i = a[:10]\n",
    "print([groups[idx] for score, idx in i])"
   ]
  },
  {
   "cell_type": "code",
   "execution_count": 29,
   "metadata": {},
   "outputs": [],
   "source": [
    "def precision_for_one(csr, user_l):\n",
    "    user = reverse_users[user_l]\n",
    "    t = recs(user, csr)\n",
    "    a = t.tolist()\n",
    "    a = a[0]\n",
    "    a = [(j,i) for i , j in enumerate(a)]\n",
    "    a.sort(key=lambda i: i[0], reverse=True)\n",
    "    i = a[:20]\n",
    "    recomend = set([groups[idx] for score, idx in i])\n",
    "    groups_of_user = set(all_members[user_l]['groups'])\n",
    "    TP = len(recomend&groups_of_user)\n",
    "    return TP/20."
   ]
  },
  {
   "cell_type": "code",
   "execution_count": 30,
   "metadata": {},
   "outputs": [],
   "source": [
    "def recall_for_one(csr, user_l):\n",
    "    user = reverse_users[user_l]\n",
    "    t = recs(user, csr)\n",
    "    a = t.tolist()\n",
    "    a = a[0]\n",
    "    a = [(j,i) for i , j in enumerate(a)]\n",
    "    a.sort(key=lambda i: i[0], reverse=True)\n",
    "    i = a[:20]\n",
    "    recomend = set([groups[idx] for score, idx in i])\n",
    "    groups_of_user = set(all_members[user_l]['groups'])\n",
    "    TP = len(recomend&groups_of_user)\n",
    "    return TP/len(groups_of_user)"
   ]
  },
  {
   "cell_type": "code",
   "execution_count": 31,
   "metadata": {},
   "outputs": [],
   "source": [
    "import random\n",
    "users_for_test = random.sample(users_l, int(0.33*len(users_l)))"
   ]
  },
  {
   "cell_type": "code",
   "execution_count": 32,
   "metadata": {},
   "outputs": [],
   "source": [
    "list_of_prec = []\n",
    "list_of_recall = []\n",
    "for i in users_for_test:\n",
    "    list_of_prec.append(precision_for_one(csr, i))\n",
    "    list_of_recall.append(recall_for_one(csr, i))"
   ]
  },
  {
   "cell_type": "code",
   "execution_count": 33,
   "metadata": {},
   "outputs": [
    {
     "data": {
      "text/plain": [
       "0.32407564810879674"
      ]
     },
     "execution_count": 33,
     "metadata": {},
     "output_type": "execute_result"
    }
   ],
   "source": [
    "sum(list_of_prec)/len(list_of_prec)"
   ]
  },
  {
   "cell_type": "code",
   "execution_count": 34,
   "metadata": {},
   "outputs": [
    {
     "data": {
      "text/plain": [
       "0.1342450059333986"
      ]
     },
     "execution_count": 34,
     "metadata": {},
     "output_type": "execute_result"
    }
   ],
   "source": [
    "sum(list_of_recall)/len(list_of_recall)"
   ]
  }
 ],
 "metadata": {
  "kernelspec": {
   "display_name": "Python 3",
   "language": "python",
   "name": "python3"
  },
  "language_info": {
   "codemirror_mode": {
    "name": "ipython",
    "version": 3
   },
   "file_extension": ".py",
   "mimetype": "text/x-python",
   "name": "python",
   "nbconvert_exporter": "python",
   "pygments_lexer": "ipython3",
   "version": "3.6.8"
  }
 },
 "nbformat": 4,
 "nbformat_minor": 2
}
