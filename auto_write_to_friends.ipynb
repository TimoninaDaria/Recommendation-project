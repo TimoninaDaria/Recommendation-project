{
 "cells": [
  {
   "cell_type": "code",
   "execution_count": 1,
   "metadata": {
    "ExecuteTime": {
     "end_time": "2019-12-16T19:37:48.994507Z",
     "start_time": "2019-12-16T19:37:41.173884Z"
    }
   },
   "outputs": [],
   "source": [
    "import vk                                                                       \n",
    "import time                                                                     \n",
    "import pickle                                                                   \n",
    "import numpy as np \n",
    "import collections\n",
    "import itertools\n",
    "import webbrowser\n",
    "from time import sleep\n",
    "from sklearn.metrics.pairwise import cosine_similarity\n",
    "from IPython.display import clear_output\n",
    "import pandas as pd\n",
    "\n",
    "\n",
    "from scipy.sparse import coo_matrix, csr_matrix, csc_matrix\n",
    "from collections import defaultdict                                             \n",
    "                                                                                \n",
    "def save_obj(obj, name ):                                                       \n",
    "    with open(name + '.pkl', 'wb') as f:                                        \n",
    "        pickle.dump(obj, f, pickle.HIGHEST_PROTOCOL)                            \n",
    "                                                                                \n",
    "def load_obj(name ):                                                            \n",
    "    with open(name + '.pkl', 'rb') as f:                                        \n",
    "        return pickle.load(f)"
   ]
  },
  {
   "cell_type": "code",
   "execution_count": 2,
   "metadata": {
    "ExecuteTime": {
     "end_time": "2019-12-16T19:37:49.030529Z",
     "start_time": "2019-12-16T19:37:48.999539Z"
    }
   },
   "outputs": [
    {
     "name": "stdout",
     "output_type": "stream",
     "text": [
      "36\n",
      "36\n",
      "36\n",
      "36\n",
      "36\n"
     ]
    }
   ],
   "source": [
    "Maks0 = load_obj('Maks_recs_0')\n",
    "Maks1 = load_obj('Maks_recs_1')\n",
    "Anya2 = load_obj('Anya_recs')\n",
    "Dasha3 = load_obj('Dasha_recs_3')\n",
    "Dasha4 = load_obj('Dasha_recs_4')\n",
    "print(len(Maks0))\n",
    "print(len(Maks1))\n",
    "print(len(Anya2))\n",
    "print(len(Dasha3))\n",
    "print(len(Dasha4))"
   ]
  },
  {
   "cell_type": "code",
   "execution_count": 4,
   "metadata": {
    "ExecuteTime": {
     "end_time": "2019-12-16T19:38:06.170244Z",
     "start_time": "2019-12-16T19:38:06.166234Z"
    }
   },
   "outputs": [],
   "source": [
    "my_friends_for_test=[995864,6173127,6811139,8431101,9420850,10804323,11030995,14245770,17468315,22840792,25567189,25883865,29145732,49363671,62369794,66382695,78330794,171038940,178159310,182861903,292309514,38628143]"
   ]
  },
  {
   "cell_type": "code",
   "execution_count": 5,
   "metadata": {
    "ExecuteTime": {
     "end_time": "2019-12-16T19:38:07.633555Z",
     "start_time": "2019-12-16T19:38:06.403989Z"
    }
   },
   "outputs": [],
   "source": [
    "common_dict = {i:set() for i in Maks0.keys()}\n",
    "for user, val in Maks0.items():\n",
    "    common_dict[user].update(val['groups'])\n",
    "for user, val in Maks1.items():\n",
    "    common_dict[user].update(val['groups'])\n",
    "for user, val in Anya2.items():\n",
    "    common_dict[user].update(val['groups'])\n",
    "for user, val in Dasha3.items():\n",
    "    common_dict[user].update(val['groups'])\n",
    "for user, val in Dasha4.items():\n",
    "    common_dict[user].update(val['groups'])\n",
    "for user, val in common_dict.items():\n",
    "    common_dict[user] = list(val)\n",
    "    common_dict[user].sort()"
   ]
  },
  {
   "cell_type": "code",
   "execution_count": 6,
   "metadata": {
    "ExecuteTime": {
     "end_time": "2019-12-16T19:38:07.766217Z",
     "start_time": "2019-12-16T19:38:07.636103Z"
    }
   },
   "outputs": [],
   "source": [
    "for user, val in common_dict.items():\n",
    "    if user in my_friends_for_test:\n",
    "        pass\n",
    "    else:\n",
    "        continue"
   ]
  },
  {
   "cell_type": "code",
   "execution_count": 7,
   "metadata": {
    "ExecuteTime": {
     "end_time": "2019-12-16T19:38:07.974292Z",
     "start_time": "2019-12-16T19:38:07.969282Z"
    }
   },
   "outputs": [],
   "source": [
    "def open_links(is_groups, user_groups):\n",
    "    user, groups = user_groups\n",
    "    webbrowser.open('https://vk.com/id'+str(user))\n",
    "    for group in groups:\n",
    "        sleep(0.8)\n",
    "        webbrowser.open('https://vk.com/public' + str(group))"
   ]
  },
  {
   "cell_type": "code",
   "execution_count": 9,
   "metadata": {
    "ExecuteTime": {
     "end_time": "2019-12-16T19:38:15.207433Z",
     "start_time": "2019-12-16T19:38:15.202244Z"
    }
   },
   "outputs": [],
   "source": [
    "message = 'Привет. У меня к тебе небольшая просьба, мне нужно помочь с моим дз, а именно оценить следующие рекомендованные тебе группы вк (насколько они тебе подходят). Если тебе неинтересно\\нет времени, просто не отвечай, все ок)\\n Если готов помочь просто верни мне список оценок в том же порядке в каком идут эти группы. оценки такие: \\n 0 - вообще не то\\n 1 - тематика в целом близка, но группа неоч\\n 2 - интересно полистать записи, но не более\\n 3 - залип\\n 4 - подписался\\n не обязательно листать группы (их к сожалению достаточно много получилось), можешь просто ориентироваться на название, описание и колличество друзей в них)\\nСписок групп:\\n'"
   ]
  },
  {
   "cell_type": "code",
   "execution_count": 10,
   "metadata": {
    "ExecuteTime": {
     "end_time": "2019-12-16T19:38:15.741824Z",
     "start_time": "2019-12-16T19:38:15.735317Z"
    }
   },
   "outputs": [],
   "source": [
    "my_friends_opros = {}\n",
    "import os\n",
    "for user, val in common_dict.items():\n",
    "    if user not in my_friends_for_test:\n",
    "        continue\n",
    "    my_friends_opros[user] = []\n",
    "    cur_message = message\n",
    "    for g in val:\n",
    "        if g <=10:\n",
    "            continue\n",
    "        cur_message +='https://vk.com/public' + str(g) +'\\n'\n",
    "        my_friends_opros[user].append([g,0])\n",
    "    df=pd.DataFrame([cur_message])\n",
    "    df.to_clipboard(index=False,header=False)\n",
    "    print('Message copy to you clipboard')\n",
    "    url = 'https://vk.com/write'+str(user)\n",
    "    webbrowser.open(url)\n",
    "    s = input()"
   ]
  },
  {
   "cell_type": "code",
   "execution_count": 23,
   "metadata": {
    "ExecuteTime": {
     "end_time": "2019-12-16T19:04:01.394898Z",
     "start_time": "2019-12-16T19:04:01.390516Z"
    }
   },
   "outputs": [],
   "source": [
    "save_obj(my_friends_opros, 'opros')"
   ]
  },
  {
   "cell_type": "code",
   "execution_count": 39,
   "metadata": {
    "ExecuteTime": {
     "end_time": "2019-12-17T09:01:04.229705Z",
     "start_time": "2019-12-17T09:01:04.226400Z"
    }
   },
   "outputs": [],
   "source": [
    "opros = load_obj('opros')"
   ]
  },
  {
   "cell_type": "code",
   "execution_count": 14,
   "metadata": {
    "ExecuteTime": {
     "end_time": "2019-12-16T19:38:40.873605Z",
     "start_time": "2019-12-16T19:38:40.868126Z"
    }
   },
   "outputs": [
    {
     "name": "stdout",
     "output_type": "stream",
     "text": [
      "995864 [[15142206, 0], [18874368, 0], [25539801, 0], [29302425, 0], [29534144, 0], [29559271, 0], [30022666, 0], [31480508, 0], [34298047, 0], [36326284, 0], [37119411, 0], [38664418, 0], [41437811, 0], [53782768, 0], [57846937, 0], [59592700, 0], [65652356, 0], [78019879, 0], [87564111, 0], [123814203, 0], [130023428, 0]]\n"
     ]
    }
   ],
   "source": [
    "#answers (id, [scores])\n",
    "for user, val in opros.items():\n",
    "    print(user, val)#answers[]\n",
    "    break"
   ]
  },
  {
   "cell_type": "code",
   "execution_count": 15,
   "metadata": {
    "ExecuteTime": {
     "end_time": "2019-12-16T19:38:41.861482Z",
     "start_time": "2019-12-16T19:38:41.840819Z"
    }
   },
   "outputs": [
    {
     "data": {
      "text/plain": [
       "[[4100014, 0],\n",
       " [18874368, 0],\n",
       " [24098496, 0],\n",
       " [24410762, 2],\n",
       " [25557243, 2],\n",
       " [28261334, 0],\n",
       " [29559271, 0],\n",
       " [30022666, 1],\n",
       " [30709310, 0],\n",
       " [34215577, 0],\n",
       " [37119411, 2],\n",
       " [37495032, 1],\n",
       " [38664418, 1],\n",
       " [41437811, 0],\n",
       " [50382842, 0],\n",
       " [57846937, 1],\n",
       " [59592700, 3],\n",
       " [65652356, 3],\n",
       " [78019879, 1],\n",
       " [92337511, 1],\n",
       " [144626757, 0],\n",
       " [156869701, 1],\n",
       " [176626588, 0]]"
      ]
     },
     "execution_count": 15,
     "metadata": {},
     "output_type": "execute_result"
    }
   ],
   "source": [
    "opros[6173127]"
   ]
  },
  {
   "cell_type": "code",
   "execution_count": 27,
   "metadata": {
    "ExecuteTime": {
     "end_time": "2019-12-16T19:44:22.776499Z",
     "start_time": "2019-12-16T19:44:22.769928Z"
    }
   },
   "outputs": [],
   "source": [
    "norm_men = []"
   ]
  },
  {
   "cell_type": "code",
   "execution_count": 1,
   "metadata": {
    "ExecuteTime": {
     "end_time": "2019-12-17T18:08:52.620845Z",
     "start_time": "2019-12-17T18:08:52.614373Z"
    }
   },
   "outputs": [],
   "source": [
    "def add_norm_man(norm_man, answer):\n",
    "    norm_men.append(norm_man)\n",
    "    opros[norm_man] = [[i[0], score]for i, score in zip(opros[norm_man], answer)]\n",
    "    save_obj(opros, 'opros')"
   ]
  },
  {
   "cell_type": "code",
   "execution_count": 29,
   "metadata": {
    "ExecuteTime": {
     "end_time": "2019-12-16T19:44:24.592323Z",
     "start_time": "2019-12-16T19:44:23.749164Z"
    }
   },
   "outputs": [],
   "source": [
    "bahtiozin = 6173127\n",
    "answer = [0,0,0,2,2,0,0,1,0,0,2,1,1,0,0,1,3,3,1,1,0,1,0]\n",
    "add_norm_man(bahtiozin, answer)\n",
    "save_obj(opros, 'opros')"
   ]
  },
  {
   "cell_type": "code",
   "execution_count": 30,
   "metadata": {
    "ExecuteTime": {
     "end_time": "2019-12-16T19:44:25.440797Z",
     "start_time": "2019-12-16T19:44:24.596817Z"
    }
   },
   "outputs": [],
   "source": [
    "lunin = 11030995\n",
    "answer = [1, 2, 3, 0, 4, 3, 2, 0, 1, 0, 1, 3, 3, 4, 1, 3, 0, 1, 1]\n",
    "add_norm_man(lunin, answer)\n",
    "save_obj(opros, 'opros')"
   ]
  },
  {
   "cell_type": "code",
   "execution_count": 33,
   "metadata": {
    "ExecuteTime": {
     "end_time": "2019-12-16T19:45:35.106253Z",
     "start_time": "2019-12-16T19:45:35.096203Z"
    }
   },
   "outputs": [],
   "source": [
    "mila = 25883865\n",
    "answer = [0, 1,4,2,2,3,3, 2,2,4,4,2,2,1, 1,2,1,0,1]\n",
    "add_norm_man(mila, answer)\n",
    "save_obj(opros, 'opros')"
   ]
  },
  {
   "cell_type": "code",
   "execution_count": 45,
   "metadata": {
    "ExecuteTime": {
     "end_time": "2019-12-17T13:10:51.112275Z",
     "start_time": "2019-12-17T13:10:51.107718Z"
    }
   },
   "outputs": [],
   "source": [
    "grachev = 22840792\n",
    "answer = [2, 0, 1, 2, 2, 2, 3, 3, 3, 3, 2, 2, 2, 2, 2,1,1]\n",
    "add_norm_man(grachev, answer)\n",
    "save_obj(opros, 'opros')"
   ]
  },
  {
   "cell_type": "code",
   "execution_count": 46,
   "metadata": {
    "ExecuteTime": {
     "end_time": "2019-12-17T13:10:54.262926Z",
     "start_time": "2019-12-17T13:10:54.250736Z"
    }
   },
   "outputs": [
    {
     "name": "stdout",
     "output_type": "stream",
     "text": [
      "6173127\n",
      "11030995\n",
      "25883865\n",
      "22840792\n"
     ]
    }
   ],
   "source": [
    "methods ={}\n",
    "methods['method0']=[]\n",
    "methods['method1']=[]\n",
    "methods['method2']=[]\n",
    "methods['method3']=[]\n",
    "methods['method4']=[]\n",
    "for norm_man in norm_men:\n",
    "    print(norm_man)\n",
    "    for gr_score in opros[norm_man]:\n",
    "        if gr_score[0] in Maks0[norm_man]['groups']:\n",
    "            methods['method0'].append(gr_score[1])\n",
    "        if gr_score[0] in Maks1[norm_man]['groups']:\n",
    "            methods['method1'].append(gr_score[1])\n",
    "        if gr_score[0] in Anya2[norm_man]['groups']:\n",
    "            methods['method2'].append(gr_score[1])\n",
    "        if gr_score[0] in Dasha3[norm_man]['groups']:\n",
    "            methods['method3'].append(gr_score[1])\n",
    "        if gr_score[0] in Dasha4[norm_man]['groups']:\n",
    "            methods['method4'].append(gr_score[1])\n"
   ]
  },
  {
   "cell_type": "code",
   "execution_count": 49,
   "metadata": {
    "ExecuteTime": {
     "end_time": "2019-12-17T13:11:14.516594Z",
     "start_time": "2019-12-17T13:11:14.511941Z"
    }
   },
   "outputs": [],
   "source": [
    "methods\n",
    "save_obj(methods,'methods')"
   ]
  },
  {
   "cell_type": "code",
   "execution_count": 38,
   "metadata": {
    "ExecuteTime": {
     "end_time": "2019-12-16T19:49:54.222290Z",
     "start_time": "2019-12-16T19:49:54.216940Z"
    }
   },
   "outputs": [
    {
     "name": "stdout",
     "output_type": "stream",
     "text": [
      "18\n",
      "18\n",
      "18\n",
      "18\n",
      "10\n"
     ]
    }
   ],
   "source": [
    "for method in methods:\n",
    "    print(len(methods[method]))"
   ]
  },
  {
   "cell_type": "code",
   "execution_count": null,
   "metadata": {},
   "outputs": [],
   "source": []
  }
 ],
 "metadata": {
  "kernelspec": {
   "display_name": "Python 3",
   "language": "python",
   "name": "python3"
  },
  "language_info": {
   "codemirror_mode": {
    "name": "ipython",
    "version": 3
   },
   "file_extension": ".py",
   "mimetype": "text/x-python",
   "name": "python",
   "nbconvert_exporter": "python",
   "pygments_lexer": "ipython3",
   "version": "3.6.9"
  },
  "toc": {
   "base_numbering": 1,
   "nav_menu": {},
   "number_sections": true,
   "sideBar": true,
   "skip_h1_title": false,
   "title_cell": "Table of Contents",
   "title_sidebar": "Contents",
   "toc_cell": false,
   "toc_position": {},
   "toc_section_display": true,
   "toc_window_display": false
  }
 },
 "nbformat": 4,
 "nbformat_minor": 2
}
